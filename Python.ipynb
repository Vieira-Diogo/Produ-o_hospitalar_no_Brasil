{
  "nbformat": 4,
  "nbformat_minor": 0,
  "metadata": {
    "colab": {
      "name": "Untitled3.ipynb",
      "provenance": [],
      "authorship_tag": "ABX9TyNvctA0QhjO6GwfFOJ6eT2x",
      "include_colab_link": true
    },
    "kernelspec": {
      "name": "python3",
      "display_name": "Python 3"
    },
    "language_info": {
      "name": "python"
    }
  },
  "cells": [
    {
      "cell_type": "markdown",
      "metadata": {
        "id": "view-in-github",
        "colab_type": "text"
      },
      "source": [
        "<a href=\"https://colab.research.google.com/github/Vieira-Diogo/Producao_hospitalar_no_Brasil/blob/main/Python.ipynb\" target=\"_parent\"><img src=\"https://colab.research.google.com/assets/colab-badge.svg\" alt=\"Open In Colab\"/></a>"
      ]
    },
    {
      "cell_type": "markdown",
      "metadata": {
        "id": "FUDiTb3IKj_w"
      },
      "source": [
        "Estruturas de dados (utilizado para juntar ou estruturar dados)\n",
        "\n",
        " - Listas e Tuplas\n",
        "\n",
        "**Listas são coleções ou sequencias ordenadas de valores  em Python**\n",
        "\n",
        "Lista Vazia:\n",
        "listavazia = []\n",
        "\n",
        "lista com alguns valores:\n",
        "numeros = [1,2,3,4]\n",
        "\n",
        "listas podem mesclar diferentes tipos de valores:\n",
        "lista_mista = [14, \"let's code\", 0.1, True]\n",
        "\n",
        "listas são mutáveis, podemos alterar o valor de seus itens:\n",
        "numeros [2] = 5\n",
        "print(numeros)"
      ]
    },
    {
      "cell_type": "code",
      "metadata": {
        "colab": {
          "base_uri": "https://localhost:8080/"
        },
        "id": "AWVqQ3owKiLB",
        "outputId": "d0c50b7b-1663-4e6e-a67c-e5acff2e3d44"
      },
      "source": [
        "nomes_paises = [\"Brasil\", \"Argentina\", \"China\", \"Canada\", \"Japão\"]\n",
        "print (nomes_paises)"
      ],
      "execution_count": null,
      "outputs": [
        {
          "output_type": "stream",
          "text": [
            "['Brasil', 'Argentina', 'China', 'Canada', 'Japão']\n"
          ],
          "name": "stdout"
        }
      ]
    },
    {
      "cell_type": "code",
      "metadata": {
        "colab": {
          "base_uri": "https://localhost:8080/"
        },
        "id": "DO4BWimjM3Km",
        "outputId": "492cb6a3-a4fe-4f2a-ddd0-04d94f7baf0c"
      },
      "source": [
        "print(\"Tamanho da lista:\", len(nomes_paises))"
      ],
      "execution_count": null,
      "outputs": [
        {
          "output_type": "stream",
          "text": [
            "Tamanho da lista: 5\n"
          ],
          "name": "stdout"
        }
      ]
    },
    {
      "cell_type": "code",
      "metadata": {
        "colab": {
          "base_uri": "https://localhost:8080/"
        },
        "id": "vmb-YeFUNIWL",
        "outputId": "5767467e-4868-40af-e332-ada2ed168a3c"
      },
      "source": [
        "print(\"País:\",nomes_paises[4])"
      ],
      "execution_count": null,
      "outputs": [
        {
          "output_type": "stream",
          "text": [
            "País: Japão\n"
          ],
          "name": "stdout"
        }
      ]
    },
    {
      "cell_type": "code",
      "metadata": {
        "colab": {
          "base_uri": "https://localhost:8080/"
        },
        "id": "4w3r17EqNPe8",
        "outputId": "73f8c6d7-9b5a-4408-ce94-daf62763b500"
      },
      "source": [
        "print(\"Pais:\", nomes_paises[-1])"
      ],
      "execution_count": null,
      "outputs": [
        {
          "output_type": "stream",
          "text": [
            "Pais: Japão\n"
          ],
          "name": "stdout"
        }
      ]
    },
    {
      "cell_type": "code",
      "metadata": {
        "colab": {
          "base_uri": "https://localhost:8080/"
        },
        "id": "S70bKSnWNcnM",
        "outputId": "33981d08-2018-4369-eba7-ca98ab779dcb"
      },
      "source": [
        "#para sobrescrever um valor na lista, basta chamar a lista na posição desejada e atribuir o valor desejado\n",
        "nomes_paises[4] = \"Colômbia\"\n",
        "print(\"Pais:\", nomes_paises[-1])\n",
        "print(nomes_paises)"
      ],
      "execution_count": null,
      "outputs": [
        {
          "output_type": "stream",
          "text": [
            "Pais: Colômbia\n",
            "['Brasil', 'Argentina', 'China', 'Canada', 'Colômbia']\n"
          ],
          "name": "stdout"
        }
      ]
    },
    {
      "cell_type": "code",
      "metadata": {
        "colab": {
          "base_uri": "https://localhost:8080/"
        },
        "id": "yihGPhzzNud7",
        "outputId": "e742b4ff-97f7-4303-aebe-58ec8f571de5"
      },
      "source": [
        "# Slice ou \"fatiar\" o primeiro indice é includente e o segundo excludente. O print retorna o primeiro e segundo países\n",
        "print(nomes_paises[0:2])"
      ],
      "execution_count": null,
      "outputs": [
        {
          "output_type": "stream",
          "text": [
            "['Brasil', 'Argentina']\n"
          ],
          "name": "stdout"
        }
      ]
    },
    {
      "cell_type": "code",
      "metadata": {
        "colab": {
          "base_uri": "https://localhost:8080/"
        },
        "id": "ABEf685NN_iE",
        "outputId": "c6acc2f7-ca85-4cb3-d2cd-40cbb9d52901"
      },
      "source": [
        "#ao omitir o indice final, indico que desejo ir até o final da lista. o mesmo vale para o indice inicial\n",
        "print(nomes_paises[2:])\n",
        "print(nomes_paises[:])\n"
      ],
      "execution_count": null,
      "outputs": [
        {
          "output_type": "stream",
          "text": [
            "['China', 'Canada', 'Colômbia']\n",
            "['Brasil', 'Argentina', 'China', 'Canada', 'Colômbia']\n"
          ],
          "name": "stdout"
        }
      ]
    },
    {
      "cell_type": "code",
      "metadata": {
        "colab": {
          "base_uri": "https://localhost:8080/"
        },
        "id": "1z-4Aw5XOqlN",
        "outputId": "9c577e62-4874-44ea-e4fb-c1e33a9f5e75"
      },
      "source": [
        "# é possivel inserir um \"Step\", para que pule valores da lista de acordo com o step\n",
        "print(nomes_paises[::2])\n",
        "print(nomes_paises[::3])\n",
        "#ao usar um incremento negativo, podemos inverter a ordem da lista\n",
        "print(nomes_paises[::-1])"
      ],
      "execution_count": null,
      "outputs": [
        {
          "output_type": "stream",
          "text": [
            "['Brasil', 'China', 'Colômbia']\n",
            "['Brasil', 'Canada']\n",
            "['Colômbia', 'Canada', 'China', 'Argentina', 'Brasil']\n"
          ],
          "name": "stdout"
        }
      ]
    },
    {
      "cell_type": "code",
      "metadata": {
        "colab": {
          "base_uri": "https://localhost:8080/"
        },
        "id": "7WotueRyPCRB",
        "outputId": "6e8b0bd6-9862-4830-eff8-87c4367d9ec7"
      },
      "source": [
        "#para checar se existe um elemento dentra da lista, operador \"in\" que retoma um valor bool\n",
        "print(\"Brasil\" in nomes_paises)\n",
        "print(\"Canada\" not in nomes_paises)"
      ],
      "execution_count": null,
      "outputs": [
        {
          "output_type": "stream",
          "text": [
            "True\n",
            "False\n"
          ],
          "name": "stdout"
        }
      ]
    },
    {
      "cell_type": "code",
      "metadata": {
        "id": "MjmmxYkVPpB6"
      },
      "source": [
        "#adicionar elementos na lista\n",
        "lista_capitais = []"
      ],
      "execution_count": null,
      "outputs": []
    },
    {
      "cell_type": "code",
      "metadata": {
        "colab": {
          "base_uri": "https://localhost:8080/"
        },
        "id": "V-ZE7_77P8LQ",
        "outputId": "11b1e496-8a83-4e99-9fcf-501d55556c39"
      },
      "source": [
        "#utilização do metodo .append que adiciona o valor ao final da lista\n",
        "lista_capitais.append (\"Brasilia\")\n",
        "lista_capitais.append (\"Buenos Aires\")\n",
        "lista_capitais.append (\"Pequim\")\n",
        "lista_capitais.append (\"Bogotá\")\n",
        "\n",
        "print(lista_capitais)"
      ],
      "execution_count": null,
      "outputs": [
        {
          "output_type": "stream",
          "text": [
            "['Brasilia', 'Buenos Aires', 'Pequim', 'Bogotá']\n"
          ],
          "name": "stdout"
        }
      ]
    },
    {
      "cell_type": "code",
      "metadata": {
        "colab": {
          "base_uri": "https://localhost:8080/"
        },
        "id": "H9SFOeXWQmxc",
        "outputId": "25352755-6992-4fc9-adcc-74d1fc1a624d"
      },
      "source": [
        "#para insirir um valor em uma determinada posição, utilizamos o metodo \"insert\", declarando a posição e o valor que desejamos\n",
        "lista_capitais.insert(2, \"Paris\")\n",
        "print(lista_capitais)"
      ],
      "execution_count": null,
      "outputs": [
        {
          "output_type": "stream",
          "text": [
            "['Brasilia', 'Buenos Aires', 'Paris', 'Pequim', 'Bogotá']\n"
          ],
          "name": "stdout"
        }
      ]
    },
    {
      "cell_type": "code",
      "metadata": {
        "colab": {
          "base_uri": "https://localhost:8080/"
        },
        "id": "fZftRGPFRNlX",
        "outputId": "0481a305-7fec-4162-cf0a-3f0e3c6bec9e"
      },
      "source": [
        "#para deletar valores, \"remove\" informando o seu valor\n",
        "lista_capitais.remove(\"Buenos Aires\")\n",
        "print(lista_capitais)"
      ],
      "execution_count": null,
      "outputs": [
        {
          "output_type": "stream",
          "text": [
            "['Brasilia', 'Paris', 'Pequim', 'Bogotá']\n"
          ],
          "name": "stdout"
        }
      ]
    },
    {
      "cell_type": "code",
      "metadata": {
        "colab": {
          "base_uri": "https://localhost:8080/"
        },
        "id": "Y_O_mnp0RBzv",
        "outputId": "db785b61-1379-479e-edac-d82b14f5806a"
      },
      "source": [
        "#o metodo \"pop\" permite deletar o elemento a partir de sua posição na lista. Ele sempre retornar o valor removido\n",
        "removido = lista_capitais.pop(2)\n",
        "print(lista_capitais, removido)"
      ],
      "execution_count": null,
      "outputs": [
        {
          "output_type": "stream",
          "text": [
            "['Brasilia', 'Paris', 'Bogotá'] Pequim\n"
          ],
          "name": "stdout"
        }
      ]
    },
    {
      "cell_type": "code",
      "metadata": {
        "colab": {
          "base_uri": "https://localhost:8080/"
        },
        "id": "7EW4blxBRzgW",
        "outputId": "5d36223c-8057-4a00-9881-b8479b3395db"
      },
      "source": [
        "#Tuplas, são semelhantes as listas, sua principal diferença é que a tupla é imutável. Uma vez definida, não pode sofrer alterações\n",
        "#Tuplas são declaradas por ()\n",
        "nomes_paises = ('Brasil', 'Argentina', 'China', 'Canada', 'Japão')\n",
        "print(nomes_paises)\n"
      ],
      "execution_count": null,
      "outputs": [
        {
          "output_type": "stream",
          "text": [
            "('Brasil', 'Argentina', 'China', 'Canada', 'Japão')\n"
          ],
          "name": "stdout"
        }
      ]
    },
    {
      "cell_type": "code",
      "metadata": {
        "colab": {
          "base_uri": "https://localhost:8080/"
        },
        "id": "f3nCmqyITJh1",
        "outputId": "db903373-a58f-4caa-fe69-c24eb99e8bba"
      },
      "source": [
        "print(nomes_paises, type(nomes_paises))"
      ],
      "execution_count": null,
      "outputs": [
        {
          "output_type": "stream",
          "text": [
            "('Brasil', 'Argentina', 'China', 'Canada', 'Japão') <class 'tuple'>\n"
          ],
          "name": "stdout"
        }
      ]
    },
    {
      "cell_type": "code",
      "metadata": {
        "colab": {
          "base_uri": "https://localhost:8080/"
        },
        "id": "M4GrLw5gTSKr",
        "outputId": "825b4346-93d6-4932-b359-c4d53a81602d"
      },
      "source": [
        "#tupla de 1 elemento\n",
        "nome_estado = \"São Paulo\",\n",
        "print(nome_estado, type(nome_estado))"
      ],
      "execution_count": null,
      "outputs": [
        {
          "output_type": "stream",
          "text": [
            "('São Paulo',) <class 'tuple'>\n"
          ],
          "name": "stdout"
        }
      ]
    },
    {
      "cell_type": "code",
      "metadata": {
        "colab": {
          "base_uri": "https://localhost:8080/"
        },
        "id": "RzaIdLPjTkEL",
        "outputId": "1e6718c5-e7e0-4f61-da51-1e0c61333415"
      },
      "source": [
        "#tuplas permitem \"unpacking\", atribuir cada um dos valores da tupla a variaveis diferentes\n",
        "b, a, c, ca, j = nomes_paises\n",
        "print(b, a, c, ca, j)"
      ],
      "execution_count": null,
      "outputs": [
        {
          "output_type": "stream",
          "text": [
            "Brasil Argentina China Canada Japão\n"
          ],
          "name": "stdout"
        }
      ]
    },
    {
      "cell_type": "code",
      "metadata": {
        "colab": {
          "base_uri": "https://localhost:8080/"
        },
        "id": "o78PSYkmUFmq",
        "outputId": "af0ba92a-43ec-4e04-89d6-dce2ce9fdf73"
      },
      "source": [
        "print(*nomes_paises)"
      ],
      "execution_count": null,
      "outputs": [
        {
          "output_type": "stream",
          "text": [
            "Brasil Argentina China Canada Japão\n"
          ],
          "name": "stdout"
        }
      ]
    },
    {
      "cell_type": "markdown",
      "metadata": {
        "id": "tEyqFOsMUmUB"
      },
      "source": [
        "### **Funções de Strings**"
      ]
    },
    {
      "cell_type": "code",
      "metadata": {
        "colab": {
          "base_uri": "https://localhost:8080/"
        },
        "id": "yAI0_ocMUUE6",
        "outputId": "aa799193-dee5-472b-ab93-88f9e5303794"
      },
      "source": [
        "empresa = 'Google'\n",
        "print(empresa)"
      ],
      "execution_count": null,
      "outputs": [
        {
          "output_type": "stream",
          "text": [
            "Google\n"
          ],
          "name": "stdout"
        }
      ]
    },
    {
      "cell_type": "code",
      "metadata": {
        "colab": {
          "base_uri": "https://localhost:8080/",
          "height": 129
        },
        "id": "risWNG2EVEDJ",
        "outputId": "27f25e91-36e5-46d8-8d5d-df831ec332f0"
      },
      "source": [
        "empresa = 'let's code'"
      ],
      "execution_count": null,
      "outputs": [
        {
          "output_type": "error",
          "ename": "SyntaxError",
          "evalue": "ignored",
          "traceback": [
            "\u001b[0;36m  File \u001b[0;32m\"<ipython-input-33-ec6c0de5a4ea>\"\u001b[0;36m, line \u001b[0;32m1\u001b[0m\n\u001b[0;31m    empresa = 'let's code'\u001b[0m\n\u001b[0m                   ^\u001b[0m\n\u001b[0;31mSyntaxError\u001b[0m\u001b[0;31m:\u001b[0m invalid syntax\n"
          ]
        }
      ]
    },
    {
      "cell_type": "code",
      "metadata": {
        "colab": {
          "base_uri": "https://localhost:8080/"
        },
        "id": "gi0ahLnoVWFA",
        "outputId": "61a1c99b-e6b5-4f3d-840e-6b156eca7e21"
      },
      "source": [
        "empresa = \"Let's Code\"\n",
        "print(empresa)"
      ],
      "execution_count": null,
      "outputs": [
        {
          "output_type": "stream",
          "text": [
            "Let's Code\n"
          ],
          "name": "stdout"
        }
      ]
    },
    {
      "cell_type": "code",
      "metadata": {
        "colab": {
          "base_uri": "https://localhost:8080/"
        },
        "id": "IrPJk-MMVZ-I",
        "outputId": "1d85a721-9977-4926-e743-a3b3e5ed633a"
      },
      "source": [
        "#caracter de escape (contra barra \\), serve para alterar o sentido padrão que um caracter possui dentro do texto\n",
        "frase= \"O professor fulano da Let's code disse: \\\"Hoje foi\\\"\"\n",
        "print(frase)"
      ],
      "execution_count": null,
      "outputs": [
        {
          "output_type": "stream",
          "text": [
            "O professor fulano da Let's code disse: \"Hoje foi\"\n"
          ],
          "name": "stdout"
        }
      ]
    },
    {
      "cell_type": "code",
      "metadata": {
        "colab": {
          "base_uri": "https://localhost:8080/"
        },
        "id": "uA7xHoKpV9pX",
        "outputId": "2bc4796f-ff00-4da3-a778-4cfbeecea703"
      },
      "source": [
        "#podemos acessar os caracteres de uma string de forma semelhante a uma tupla\n",
        "empresa = \"Google\"\n",
        "print(empresa[0])"
      ],
      "execution_count": null,
      "outputs": [
        {
          "output_type": "stream",
          "text": [
            "G\n"
          ],
          "name": "stdout"
        }
      ]
    },
    {
      "cell_type": "code",
      "metadata": {
        "colab": {
          "base_uri": "https://localhost:8080/"
        },
        "id": "kWpV6EIbWxSO",
        "outputId": "631535eb-ef20-4b33-cc0d-600da2cf7dcb"
      },
      "source": [
        "print(empresa[:3])"
      ],
      "execution_count": null,
      "outputs": [
        {
          "output_type": "stream",
          "text": [
            "Goo\n"
          ],
          "name": "stdout"
        }
      ]
    },
    {
      "cell_type": "code",
      "metadata": {
        "id": "wQVvIT2JW1Jm"
      },
      "source": [
        "#metodos para strings, ao contrário das listas que perpetuam a alteração, nas strings eles retornam um valor que deve ser armazenado em uma variavel\n",
        "\n",
        "nomes_cidades = \"São Paulo, Bele Horizonte, Rio de Janeiro, Brasília\""
      ],
      "execution_count": null,
      "outputs": []
    },
    {
      "cell_type": "code",
      "metadata": {
        "colab": {
          "base_uri": "https://localhost:8080/",
          "height": 197
        },
        "id": "5zuuNxTaX8zv",
        "outputId": "1503bf25-0b0a-4838-946e-97ed4947690e"
      },
      "source": [
        "#metodo \"Split\" serve para quebrar a string a partir de um caracter em diferentes valores atribuindo esses valores a uma lista\n",
        "nomes_cidades = nomes_cidades.split(', ')\n",
        "#tem como carcterer padrão o espaço\n"
      ],
      "execution_count": null,
      "outputs": [
        {
          "output_type": "error",
          "ename": "AttributeError",
          "evalue": "ignored",
          "traceback": [
            "\u001b[0;31m---------------------------------------------------------------------------\u001b[0m",
            "\u001b[0;31mAttributeError\u001b[0m                            Traceback (most recent call last)",
            "\u001b[0;32m<ipython-input-45-068080841303>\u001b[0m in \u001b[0;36m<module>\u001b[0;34m()\u001b[0m\n\u001b[1;32m      1\u001b[0m \u001b[0;31m#metodo \"Split\" serve para quebrar a string a partir de um caracter em diferentes valores atribuindo esses valores a uma lista\u001b[0m\u001b[0;34m\u001b[0m\u001b[0;34m\u001b[0m\u001b[0;34m\u001b[0m\u001b[0m\n\u001b[0;32m----> 2\u001b[0;31m \u001b[0mnomes_cidades\u001b[0m \u001b[0;34m=\u001b[0m \u001b[0mnomes_cidades\u001b[0m\u001b[0;34m.\u001b[0m\u001b[0msplit\u001b[0m\u001b[0;34m(\u001b[0m\u001b[0;34m', '\u001b[0m\u001b[0;34m)\u001b[0m\u001b[0;34m\u001b[0m\u001b[0;34m\u001b[0m\u001b[0m\n\u001b[0m\u001b[1;32m      3\u001b[0m \u001b[0;31m#tem como carcterer padrão o espaço\u001b[0m\u001b[0;34m\u001b[0m\u001b[0;34m\u001b[0m\u001b[0;34m\u001b[0m\u001b[0m\n",
            "\u001b[0;31mAttributeError\u001b[0m: 'list' object has no attribute 'split'"
          ]
        }
      ]
    },
    {
      "cell_type": "code",
      "metadata": {
        "colab": {
          "base_uri": "https://localhost:8080/"
        },
        "id": "r7jWyM3OYR3c",
        "outputId": "2d1f7add-4dad-4f83-db69-4a4d80956f46"
      },
      "source": [
        "print(nomes_cidades)"
      ],
      "execution_count": null,
      "outputs": [
        {
          "output_type": "stream",
          "text": [
            "['São Paulo', 'Bele Horizonte', 'Rio de Janeiro', 'Brasília']\n"
          ],
          "name": "stdout"
        }
      ]
    },
    {
      "cell_type": "code",
      "metadata": {
        "colab": {
          "base_uri": "https://localhost:8080/"
        },
        "id": "Fx_Y5xvVYT8s",
        "outputId": "7448b72d-9a22-411b-ca8a-d250ecae79f0"
      },
      "source": [
        "casas = \"Duas casas\"\n",
        "casas = casas.split()\n",
        "print(casas)"
      ],
      "execution_count": null,
      "outputs": [
        {
          "output_type": "stream",
          "text": [
            "['Duas', 'casas']\n"
          ],
          "name": "stdout"
        }
      ]
    },
    {
      "cell_type": "code",
      "metadata": {
        "colab": {
          "base_uri": "https://localhost:8080/"
        },
        "id": "b40uAJUpZqLq",
        "outputId": "e14819b9-0a5a-49b5-83b7-27f7934db12a"
      },
      "source": [
        "#metodo \"strip\" remove espaços excessivos do inicio ou do fim das frases\n",
        "cabecalho =\"             Menu Principal          \"\n",
        "print(cabecalho.strip())"
      ],
      "execution_count": null,
      "outputs": [
        {
          "output_type": "stream",
          "text": [
            "Menu Principal\n"
          ],
          "name": "stdout"
        }
      ]
    },
    {
      "cell_type": "code",
      "metadata": {
        "colab": {
          "base_uri": "https://localhost:8080/"
        },
        "id": "nnb0GiFhZ-Ea",
        "outputId": "7e921993-6e16-40c5-f4e4-b4b0ee029980"
      },
      "source": [
        "# metodos para variações de caixa em valores textuais\n",
        "nome_cidade = \"rIo DE JaNeirO\"\n",
        "\n",
        "print(nome_cidade.title())\n",
        "#primeiros caracteres maisculos, para formartar titulos\n",
        "print(nome_cidade.capitalize())\n",
        "#primeiro caracter maisculo, o resto minusculo\n",
        "print(nome_cidade.lower())\n",
        "#todos minusculos\n",
        "print(nome_cidade.upper())\n",
        "#todos maisculos"
      ],
      "execution_count": null,
      "outputs": [
        {
          "output_type": "stream",
          "text": [
            "Rio De Janeiro\n",
            "Rio de janeiro\n",
            "rio de janeiro\n",
            "RIO DE JANEIRO\n"
          ],
          "name": "stdout"
        }
      ]
    },
    {
      "cell_type": "code",
      "metadata": {
        "colab": {
          "base_uri": "https://localhost:8080/"
        },
        "id": "bpM7PJNEbXuQ",
        "outputId": "d168faf0-ea2c-4303-d0a7-f319f8d718d9"
      },
      "source": [
        "nome_cidade = input(\"Que cidade é conhecida como cidade Maravilhosa?\")\n",
        "nome_cidade = nome_cidade.strip()\n",
        "while nome_cidade.lower() != \"rio de janeiro\":\n",
        "  print(\"Tente outra veeez\")\n",
        "  nome_cidade = input(\"Que cidade é conhecida como cidade Maravilhosa\")\n",
        "\n",
        "print(\"Acertouu\")  "
      ],
      "execution_count": null,
      "outputs": [
        {
          "output_type": "stream",
          "text": [
            "Que cidade é conhecida como cidade Maravilhosa?rio caju\n",
            "Tente outra veeez\n",
            "Que cidade é conhecida como cidade Maravilhosaasksk\n",
            "Tente outra veeez\n",
            "Que cidade é conhecida como cidade Maravilhosa   RiO  de     Janeiro    \n",
            "Tente outra veeez\n",
            "Que cidade é conhecida como cidade Maravilhosa     rio de janeiro\n",
            "Tente outra veeez\n",
            "Que cidade é conhecida como cidade Maravilhosario de janeiro\n",
            "Acertouu\n"
          ],
          "name": "stdout"
        }
      ]
    },
    {
      "cell_type": "code",
      "metadata": {
        "colab": {
          "base_uri": "https://localhost:8080/"
        },
        "id": "9LsMD144bywZ",
        "outputId": "08f0d777-47aa-41d8-95d8-f05595408c74"
      },
      "source": [
        "#operador \"in\" para verificar se determinado valor textual existe na string\n",
        "mensagem = \"Você viu o que ele disse na sala ontem\"\n",
        "fui_citado = \"casa\" in mensagem\n",
        "print(fui_citado)"
      ],
      "execution_count": null,
      "outputs": [
        {
          "output_type": "stream",
          "text": [
            "False\n"
          ],
          "name": "stdout"
        }
      ]
    },
    {
      "cell_type": "markdown",
      "metadata": {
        "id": "9luKy4_aiU3X"
      },
      "source": [
        "## Operadores em Strings"
      ]
    },
    {
      "cell_type": "code",
      "metadata": {
        "colab": {
          "base_uri": "https://localhost:8080/"
        },
        "id": "SfrGFyq2ce83",
        "outputId": "e61d5879-f5a9-4cb2-dc00-305e8268d55c"
      },
      "source": [
        "#metodo para formatação de strings, principalmente pensando na inserção de valores externos dentro de um valor que estamos declarando\n",
        "\n",
        "cumprimento = \"Olá, \"\n",
        "nome = \"Diogo\"\n",
        "print (cumprimento + nome)"
      ],
      "execution_count": null,
      "outputs": [
        {
          "output_type": "stream",
          "text": [
            "Olá, Diogo\n"
          ],
          "name": "stdout"
        }
      ]
    },
    {
      "cell_type": "code",
      "metadata": {
        "colab": {
          "base_uri": "https://localhost:8080/"
        },
        "id": "ljymfJ2Fi0S2",
        "outputId": "a995dbd5-c9f3-4683-c2f5-8026f569847c"
      },
      "source": [
        "print (nome * 5)"
      ],
      "execution_count": null,
      "outputs": [
        {
          "output_type": "stream",
          "text": [
            "DiogoDiogoDiogoDiogoDiogo\n"
          ],
          "name": "stdout"
        }
      ]
    },
    {
      "cell_type": "code",
      "metadata": {
        "colab": {
          "base_uri": "https://localhost:8080/"
        },
        "id": "wrcQs019i6n9",
        "outputId": "5d82dc7f-3eb7-4c0f-be6c-be06f6d1f89c"
      },
      "source": [
        "nome = \"Diogo\"\n",
        "idade = 32\n",
        "n_filhos = 1\n",
        "print (nome + ' tem ' + str(idade) + ' anos e ' + str(n_filhos) + ' filhos.' )"
      ],
      "execution_count": null,
      "outputs": [
        {
          "output_type": "stream",
          "text": [
            "Diogo tem 32 anos e 1 filhos.\n"
          ],
          "name": "stdout"
        }
      ]
    },
    {
      "cell_type": "code",
      "metadata": {
        "colab": {
          "base_uri": "https://localhost:8080/"
        },
        "id": "p3Jy1XTwjZ0z",
        "outputId": "58f8b87a-daa2-45e5-f5cd-d04330ee3e98"
      },
      "source": [
        "# format insere o valor da variavel nas {} de acordo com a ordem\n",
        "print('{} tem {} anos e {} filho'.format(nome, idade, n_filhos))"
      ],
      "execution_count": null,
      "outputs": [
        {
          "output_type": "stream",
          "text": [
            "Diogo tem 32 anos e 1 filho\n"
          ],
          "name": "stdout"
        }
      ]
    },
    {
      "cell_type": "code",
      "metadata": {
        "colab": {
          "base_uri": "https://localhost:8080/"
        },
        "id": "iRNQ8ooNj_nT",
        "outputId": "a0d0687b-2c94-434a-debd-5c6db7dc2bcb"
      },
      "source": [
        "#format vai arredondar o valor caso necessário\n",
        "\n",
        "\n",
        "preco_gasolina = 3.476\n",
        "print(\"O preço da gasolina hoje subiu e está em R$ {:.2f}\".format(preco_gasolina))"
      ],
      "execution_count": null,
      "outputs": [
        {
          "output_type": "stream",
          "text": [
            "O preço da gasolina hoje subiu e está em R$ 3.48\n"
          ],
          "name": "stdout"
        }
      ]
    },
    {
      "cell_type": "markdown",
      "metadata": {
        "id": "iVcG18F4lqFZ"
      },
      "source": [
        "**:** indica que passaremos opções\n",
        "\n",
        "**.2** indica apenas 2 casas após o ponto decimal\n",
        "\n",
        "**f** indica que é um float\n",
        "\n",
        "# Pode-se chamar as variávies em diferentes ordens:\n",
        "\n",
        "print('{2}, {1} and {0}'.format('a', 'b', 'c'))\n",
        "# Saída: c, b and a\n",
        "\n",
        "print('{0}{1}{0}'.format('abra', 'cad'))\n",
        "# Saída: abracadabra\n",
        "\n",
        "# Podemos especificar um número de dígitos obrigatório por campo.\n",
        "# Vejamos o exemplo:\n",
        "\n",
        "dia = 1\n",
        "mes = 8\n",
        "ano = 2019\n",
        "data1 = '{}/{}/{}'.format(dia, mes, ano)\n",
        "print(data1)\n",
        "# Saída: 1/8/2019\n",
        "# O dia e o mês ocupam apenas 1 espaço\n",
        "\n",
        "\n",
        "data2 = '{:2d}/{:2d}/{:4d}'.format(dia, mes, ano)\n",
        "# A opção 'd' significa que o parâmetro é um número inteiro.\n",
        "print(data2)\n",
        "# Saída:  1/ 8/2019\n",
        "# Agora, dia e mês ocupam obrigatoriamente 2 espaços:  1/ 8/2019\n",
        "\n",
        "# Podemos forçar que os espaços em branco sejam preenchidos com o número 0:\n",
        "data3 = '{:02d}/{:02d}/{:04d}'.format(dia, mes, ano)\n",
        "print(data3)\n",
        "# Saída: 01/08/2019\n",
        "# Agora sim a data está no formato usual, dd/mm/aaaa: 01/08/2019\n"
      ]
    },
    {
      "cell_type": "code",
      "metadata": {
        "colab": {
          "base_uri": "https://localhost:8080/"
        },
        "id": "5jDFApgYkgWy",
        "outputId": "96798bf2-935e-4413-d5fb-c4d68f66870e"
      },
      "source": [
        "#atalho para o metodo format\n",
        "print(f\"{nome} tem  {idade} anos e  {n_filhos} filhos\")"
      ],
      "execution_count": null,
      "outputs": [
        {
          "output_type": "stream",
          "text": [
            "Diogo tem  32 anos e  1 filhos\n"
          ],
          "name": "stdout"
        }
      ]
    },
    {
      "cell_type": "markdown",
      "metadata": {
        "id": "UFtfRgsjxdx_"
      },
      "source": [
        "# **Dicionários**\n",
        "\n",
        "- É uma coleção associativa e desordenada de dados\n",
        "\n",
        "- Também é uma coleção como as listas e Tuplas, porém  são indexados por chaves. Todo elemento em um dicionário possui uma chave e um valor. Chaves tipicamente são Strings e valores podem ser de variados tipos de dados\n",
        "\n",
        "- É definido pelos símbolos {}\n",
        "\n",
        "- São mutáveis, assim como as listas.\n"
      ]
    },
    {
      "cell_type": "code",
      "metadata": {
        "id": "IOCopzLLk6vD",
        "colab": {
          "base_uri": "https://localhost:8080/"
        },
        "outputId": "ad44047e-3802-4884-eb98-1177b178701b"
      },
      "source": [
        "dicionario= {}\n",
        "\n",
        "#no dicionarios os valores são adicionados diretamente:\n",
        "\n",
        "dicionario[\"Cat\"] = \"Gato\"\n",
        "dicionario[\"Dog\"] = \"Cachorro\"\n",
        "dicionario[\"mouse\"] = \"Rato\"\n",
        "\n",
        "print(dicionario)\n",
        "print(type(dicionario))"
      ],
      "execution_count": null,
      "outputs": [
        {
          "output_type": "stream",
          "text": [
            "{'Cat': 'Gato', 'Dog': 'Cachorro', 'mouse': 'Rato'}\n",
            "<class 'dict'>\n"
          ],
          "name": "stdout"
        }
      ]
    },
    {
      "cell_type": "code",
      "metadata": {
        "id": "zv2KTfrzyXTv"
      },
      "source": [
        "dados_cidade = {\n",
        "    \"nome\": \"São Paulo\", \n",
        "    \"estado\": \"São Paulo\",\n",
        "    \"area_km2\": 1521,\n",
        "    \"populacao_milhoes\": 12.18\n",
        "}\n"
      ],
      "execution_count": null,
      "outputs": []
    },
    {
      "cell_type": "code",
      "metadata": {
        "id": "ounbR5h3zhG2",
        "colab": {
          "base_uri": "https://localhost:8080/"
        },
        "outputId": "d1027de6-648b-43dd-b507-fbf75fb70cf1"
      },
      "source": [
        "print(type(dados_cidade))\n",
        "print(dados_cidade)\n"
      ],
      "execution_count": null,
      "outputs": [
        {
          "output_type": "stream",
          "text": [
            "<class 'dict'>\n",
            "{'nome': 'São Paulo', 'estado': 'São Paulo', 'area_km2': 1521, 'populacao_milhoes': 12.18}\n"
          ],
          "name": "stdout"
        }
      ]
    },
    {
      "cell_type": "code",
      "metadata": {
        "id": "YwfidATWz7pL",
        "colab": {
          "base_uri": "https://localhost:8080/"
        },
        "outputId": "a99fdf33-7650-44b0-f619-61834c80a50b"
      },
      "source": [
        "dados_cidade[\"pais\"]= \"Brasil\"\n",
        "print(dados_cidade)"
      ],
      "execution_count": null,
      "outputs": [
        {
          "output_type": "stream",
          "text": [
            "{'nome': 'São Paulo', 'estado': 'São Paulo', 'area_km2': 1521, 'populacao_milhoes': 12.18, 'pais': 'Brasil'}\n"
          ],
          "name": "stdout"
        }
      ]
    },
    {
      "cell_type": "code",
      "metadata": {
        "id": "HNOVV6cq0Ssq",
        "colab": {
          "base_uri": "https://localhost:8080/"
        },
        "outputId": "a03c4394-14e3-4f0d-ff04-8fedc82fe0dc"
      },
      "source": [
        "print(dados_cidade[\"nome\"])"
      ],
      "execution_count": null,
      "outputs": [
        {
          "output_type": "stream",
          "text": [
            "São Paulo\n"
          ],
          "name": "stdout"
        }
      ]
    },
    {
      "cell_type": "code",
      "metadata": {
        "id": "QvsL5cWR0ZAS",
        "colab": {
          "base_uri": "https://localhost:8080/"
        },
        "outputId": "f130fe55-9665-46f8-b478-07510a40ac8f"
      },
      "source": [
        "dados_cidade[\"area_km2\"] = 1500\n",
        "print(dados_cidade)"
      ],
      "execution_count": null,
      "outputs": [
        {
          "output_type": "stream",
          "text": [
            "{'nome': 'São Paulo', 'estado': 'São Paulo', 'area_km2': 1500, 'populacao_milhoes': 12.18, 'pais': 'Brasil'}\n"
          ],
          "name": "stdout"
        }
      ]
    },
    {
      "cell_type": "code",
      "metadata": {
        "id": "i-__jnTM0gOS"
      },
      "source": [
        "#método Copy, ele copia os valores do dicionario, permitindo que a nova variavel seja uma lista ou dicionario independente\n",
        "dados_cidade_2 = dados_cidade\n",
        "\n"
      ],
      "execution_count": null,
      "outputs": []
    },
    {
      "cell_type": "code",
      "metadata": {
        "id": "tLgdrNqR1E6B",
        "colab": {
          "base_uri": "https://localhost:8080/"
        },
        "outputId": "24708209-1ff6-4721-a4a2-500b549ae5ba"
      },
      "source": [
        "dados_cidade_2[\"nome\"] = \"Santos \"  \n",
        "print(dados_cidade_2)"
      ],
      "execution_count": null,
      "outputs": [
        {
          "output_type": "stream",
          "text": [
            "{'nome': 'Santos ', 'estado': 'São Paulo', 'area_km2': 1500, 'populacao_milhoes': 12.18, 'pais': 'Brasil'}\n"
          ],
          "name": "stdout"
        }
      ]
    },
    {
      "cell_type": "code",
      "metadata": {
        "id": "E5lO319V1MTR",
        "colab": {
          "base_uri": "https://localhost:8080/"
        },
        "outputId": "d5fd0c31-2131-4a32-c0b3-977fb9d4b912"
      },
      "source": [
        "print(dados_cidade)"
      ],
      "execution_count": null,
      "outputs": [
        {
          "output_type": "stream",
          "text": [
            "{'nome': 'Santos ', 'estado': 'São Paulo', 'area_km2': 1500, 'populacao_milhoes': 12.18, 'pais': 'Brasil'}\n"
          ],
          "name": "stdout"
        }
      ]
    },
    {
      "cell_type": "code",
      "metadata": {
        "id": "gsDmejyA1Np5"
      },
      "source": [
        "dados_cidade_3 = dados_cidade.copy()"
      ],
      "execution_count": null,
      "outputs": []
    },
    {
      "cell_type": "code",
      "metadata": {
        "id": "h0H_9s_I1V3h",
        "colab": {
          "base_uri": "https://localhost:8080/"
        },
        "outputId": "2671596c-388d-4eb5-e0b0-18ab0d9d58e8"
      },
      "source": [
        "dados_cidade_3 [\"estado\"] = \"Rio de Janeiro\"\n",
        "print(dados_cidade)"
      ],
      "execution_count": null,
      "outputs": [
        {
          "output_type": "stream",
          "text": [
            "{'nome': 'Santos ', 'estado': 'São Paulo', 'area_km2': 1500, 'populacao_milhoes': 12.18, 'pais': 'Brasil'}\n"
          ],
          "name": "stdout"
        }
      ]
    },
    {
      "cell_type": "markdown",
      "metadata": {
        "id": "BUUy4yFY1ezh"
      },
      "source": [
        "A concatenação, atualização ou combinação  de dois dicionarios pode ser feita pela opção update."
      ]
    },
    {
      "cell_type": "code",
      "metadata": {
        "id": "ev6mr03A1cn5",
        "colab": {
          "base_uri": "https://localhost:8080/"
        },
        "outputId": "ca7792f0-9afa-4196-ff78-8587d11cb3d1"
      },
      "source": [
        "novos_dados = {\n",
        "    \"populacao_milhoes\": 15,\n",
        "    \"fundacao\": \"25/01/1554\"\n",
        "}\n",
        "\n",
        "dados_cidade.update(novos_dados)\n",
        "print(dados_cidade)"
      ],
      "execution_count": null,
      "outputs": [
        {
          "output_type": "stream",
          "text": [
            "{'nome': 'Santos ', 'estado': 'São Paulo', 'area_km2': 1500, 'populacao_milhoes': 15, 'pais': 'Brasil', 'fundacao': '25/01/1554'}\n"
          ],
          "name": "stdout"
        }
      ]
    },
    {
      "cell_type": "code",
      "metadata": {
        "id": "lGmzhr7G19oQ",
        "colab": {
          "base_uri": "https://localhost:8080/"
        },
        "outputId": "df359f1b-398a-4285-f538-ed447d13daa6"
      },
      "source": [
        "#metodo \"Get\", para acesso de chaves para saber se os valores existem no dicionario\n",
        "\n",
        "print(dados_cidade.get(\"prefeito\"))"
      ],
      "execution_count": null,
      "outputs": [
        {
          "output_type": "stream",
          "text": [
            "None\n"
          ],
          "name": "stdout"
        }
      ]
    },
    {
      "cell_type": "code",
      "metadata": {
        "id": "ZFMiRKM42yg4",
        "colab": {
          "base_uri": "https://localhost:8080/"
        },
        "outputId": "f4a96f47-0c34-4d37-ef05-dad17754036d"
      },
      "source": [
        "print(dados_cidade.keys()) #retorna uma lista de chaves de um dicionario\n",
        "print(dados_cidade.values()) # retorna uma lista de valores de um dicionario\n",
        "print(dados_cidade.items()) #retorna uma lista de tuplas (chave,valor) de um dicionario"
      ],
      "execution_count": null,
      "outputs": [
        {
          "output_type": "stream",
          "text": [
            "dict_keys(['nome', 'estado', 'area_km2', 'populacao_milhoes', 'pais', 'fundacao'])\n",
            "dict_values(['Santos ', 'São Paulo', 1500, 15, 'Brasil', '25/01/1554'])\n",
            "dict_items([('nome', 'Santos '), ('estado', 'São Paulo'), ('area_km2', 1500), ('populacao_milhoes', 15), ('pais', 'Brasil'), ('fundacao', '25/01/1554')])\n"
          ],
          "name": "stdout"
        }
      ]
    },
    {
      "cell_type": "markdown",
      "metadata": {
        "id": "KY7PIcGU6v0C"
      },
      "source": [
        "# **Estruturas de repetição**\n",
        "\n",
        "**For**\n",
        "\n",
        "- É um tipo especial de loop, feito para percorrer elementos de uma coleção. Elimina a necessidade de um contador.\n",
        "\n",
        "- aplicável quando tem se um objeto interavel (estrutura de dados) e que precisa navegar por cada um de seus elementos.\n",
        "\n",
        "- quando se tem uma sequencia de tarefas que deve ser repetida um número pré definido de vezes.\n",
        "\n",
        "**Sintaxe:**\n",
        "\n",
        "for (variavel temporária) in (lista)\n",
        "   #instruções....\n",
        "\n",
        "   "
      ]
    },
    {
      "cell_type": "code",
      "metadata": {
        "id": "pev-wpol7MSB",
        "colab": {
          "base_uri": "https://localhost:8080/"
        },
        "outputId": "623736d9-76b4-45bd-aa70-db38d33a717a"
      },
      "source": [
        "nomes_cidades = [\"São Paulo\", \"Londres\", \"Toquio\", \"Paris\"]\n",
        "for nome in nomes_cidades :\n",
        "  print(nome)"
      ],
      "execution_count": null,
      "outputs": [
        {
          "output_type": "stream",
          "text": [
            "São Paulo\n",
            "Londres\n",
            "Toquio\n",
            "Paris\n"
          ],
          "name": "stdout"
        }
      ]
    },
    {
      "cell_type": "code",
      "metadata": {
        "id": "IzYM7lu9iNGZ",
        "colab": {
          "base_uri": "https://localhost:8080/"
        },
        "outputId": "761ce206-b668-456d-eb29-14164aec0f70"
      },
      "source": [
        "nomes_cidades = \"São Paulo\", \"Londres\", \"Toquio\", \"Paris\"\n",
        "for nome in nomes_cidades :\n",
        "  print(nome)"
      ],
      "execution_count": null,
      "outputs": [
        {
          "output_type": "stream",
          "text": [
            "São Paulo\n",
            "Londres\n",
            "Toquio\n",
            "Paris\n"
          ],
          "name": "stdout"
        }
      ]
    },
    {
      "cell_type": "code",
      "metadata": {
        "id": "LCcGplP9inLG",
        "colab": {
          "base_uri": "https://localhost:8080/"
        },
        "outputId": "7e6d8017-bca6-45b5-e6d8-07bdb2b522dc"
      },
      "source": [
        "#atua um pouco diferente em dicionarios\n",
        "cidade = {\n",
        "    \"nome\": \"São Paulo\",\n",
        "    \"estado\": \"São Paulo\",\n",
        "    \"populacao_milhoes\": 12.2,\n",
        "}\n",
        "\n",
        "for chave in cidade:\n",
        "  print(f\"{chave}: {cidade[chave]}\")"
      ],
      "execution_count": null,
      "outputs": [
        {
          "output_type": "stream",
          "text": [
            "nome: São Paulo\n",
            "estado: São Paulo\n",
            "populacao_milhoes: 12.2\n"
          ],
          "name": "stdout"
        }
      ]
    },
    {
      "cell_type": "code",
      "metadata": {
        "id": "ICLAUH2KjSb8",
        "colab": {
          "base_uri": "https://localhost:8080/"
        },
        "outputId": "132b7ed7-94f9-4816-c487-03e5a450bac5"
      },
      "source": [
        "for posicao in range(len(nomes_cidades)):\n",
        "  print(posicao)"
      ],
      "execution_count": null,
      "outputs": [
        {
          "output_type": "stream",
          "text": [
            "0\n",
            "1\n",
            "2\n",
            "3\n"
          ],
          "name": "stdout"
        }
      ]
    },
    {
      "cell_type": "markdown",
      "metadata": {
        "id": "tSS1BfGukMlk"
      },
      "source": [
        "Usos da função range:\n"
      ]
    },
    {
      "cell_type": "code",
      "metadata": {
        "id": "Q7OMmX3YkMX-",
        "colab": {
          "base_uri": "https://localhost:8080/"
        },
        "outputId": "559fff93-7755-4c98-8017-a29520ca181d"
      },
      "source": [
        "print(list(range(10))) #passando apenas o valor final, cria uma lista de 0 até -1 do valor passado. O valor final é excludente\n",
        "print(list(range(2, 10)))  #especificando um valor inicial (includente) e um valor final (excludente)\n",
        "print(list(range(2, 10, 2))) #especificando valores iniciais, finais e um incremento a cada interação"
      ],
      "execution_count": null,
      "outputs": [
        {
          "output_type": "stream",
          "text": [
            "[0, 1, 2, 3, 4, 5, 6, 7, 8, 9]\n",
            "[2, 3, 4, 5, 6, 7, 8, 9]\n",
            "[2, 4, 6, 8]\n"
          ],
          "name": "stdout"
        }
      ]
    },
    {
      "cell_type": "markdown",
      "metadata": {
        "id": "hwFPPt_Plm6y"
      },
      "source": [
        "# **Funções**\n",
        "\n",
        "- Sequencia de comandos\n",
        "\n",
        "- para declarar:\n",
        "  \n",
        "  def hello():\n",
        "      print(\"Olá, mundo!)"
      ]
    },
    {
      "cell_type": "code",
      "metadata": {
        "id": "u7ZsteImj-ms"
      },
      "source": [
        "def hello():\n",
        "  print(\"Olá, Mundo!\")\n"
      ],
      "execution_count": null,
      "outputs": []
    },
    {
      "cell_type": "code",
      "metadata": {
        "id": "DhdjsuqDmaHx",
        "colab": {
          "base_uri": "https://localhost:8080/"
        },
        "outputId": "6fb06534-eb7b-40f3-abe9-87845cfc267f"
      },
      "source": [
        "hello()\n"
      ],
      "execution_count": null,
      "outputs": [
        {
          "output_type": "stream",
          "text": [
            "Olá, Mundo!\n"
          ],
          "name": "stdout"
        }
      ]
    },
    {
      "cell_type": "code",
      "metadata": {
        "id": "VHtk2Ol2mddH"
      },
      "source": [
        "def calcula_media(valor1, valor2, valor3):\n",
        "  soma = valor1 + valor2 + valor3\n",
        "  media = soma / 3\n",
        "  return media  #retorna o valor para uma variavel"
      ],
      "execution_count": null,
      "outputs": []
    },
    {
      "cell_type": "code",
      "metadata": {
        "id": "O6I1xr5Km45w",
        "colab": {
          "base_uri": "https://localhost:8080/"
        },
        "outputId": "615b7dc3-beaa-4d83-f332-84dcfbd09a2a"
      },
      "source": [
        "resultado = calcula_media(9, 10, 8)\n",
        "print(resultado)"
      ],
      "execution_count": null,
      "outputs": [
        {
          "output_type": "stream",
          "text": [
            "9.0\n"
          ],
          "name": "stdout"
        }
      ]
    },
    {
      "cell_type": "code",
      "metadata": {
        "id": "jB_4s1sxnBKI",
        "colab": {
          "base_uri": "https://localhost:8080/"
        },
        "outputId": "e4b779f3-99c1-4c20-f6f9-3876fd00abf8"
      },
      "source": [
        "resultado2 = calcula_media(valor1 = 9, valor2= 10, valor3 = 9)\n",
        "print(resultado2)"
      ],
      "execution_count": null,
      "outputs": [
        {
          "output_type": "stream",
          "text": [
            "9.333333333333334\n"
          ],
          "name": "stdout"
        }
      ]
    },
    {
      "cell_type": "code",
      "metadata": {
        "id": "7sY_2M6AnQY_",
        "colab": {
          "base_uri": "https://localhost:8080/"
        },
        "outputId": "366e30fc-c70a-4cce-bc8a-766d7eadad8c"
      },
      "source": [
        "#parametros de funções que podem ser informados ou deixados em branco.\n",
        "print(\"Ola\", end=\" \")\n",
        "print(\", Diogo\")"
      ],
      "execution_count": null,
      "outputs": [
        {
          "output_type": "stream",
          "text": [
            "Ola , Diogo\n"
          ],
          "name": "stdout"
        }
      ]
    },
    {
      "cell_type": "code",
      "metadata": {
        "id": "QjNZnEYgnwfu"
      },
      "source": [
        "#parametrização de funções, como receber parametros variaveis dentro de uma função ou mesmo parametros desconhecidos\n",
        "\n",
        "def calcula_media(*args): #args é uma convenção, poderia utilizar qualquer outro nome\n",
        "    soma = sum(args)\n",
        "    media = soma / len(args)\n",
        "    return media\n",
        "     \n",
        "\n",
        "\n"
      ],
      "execution_count": null,
      "outputs": []
    },
    {
      "cell_type": "code",
      "metadata": {
        "id": "yZEF7gLkp07V",
        "colab": {
          "base_uri": "https://localhost:8080/"
        },
        "outputId": "7c86eed9-2cb9-42f1-bb62-bd098320b904"
      },
      "source": [
        "calcula_media(10,8,9)"
      ],
      "execution_count": null,
      "outputs": [
        {
          "output_type": "execute_result",
          "data": {
            "text/plain": [
              "9.0"
            ]
          },
          "metadata": {
            "tags": []
          },
          "execution_count": 23
        }
      ]
    },
    {
      "cell_type": "markdown",
      "metadata": {
        "id": "42iZMPYPs9gR"
      },
      "source": [
        "Ao colocarmos o * ao lado do nome de um parâmetro na definição da função, estamos dizendo que aquele argumento será uma coleção. Mais especificamente, uma tupla. Porém, o usuário não irá passar uma tupla. Ele irá passar quantos argumentos ele quiser, e o Python automaticamente criará uma tupla com eles:"
      ]
    },
    {
      "cell_type": "code",
      "metadata": {
        "id": "OyMSZQdSqlJy"
      },
      "source": [
        "def calcula_media(*args, margem): #args é uma convenção, poderia utilizar qualquer outro nome. Posso adicionar parametros extras\n",
        "    soma = sum(args)              #mas devo explicita-los na chamada da função\n",
        "    media = soma / len(args)\n",
        "    return media + margem"
      ],
      "execution_count": null,
      "outputs": []
    },
    {
      "cell_type": "code",
      "metadata": {
        "id": "KxXfiTMGrIJK",
        "colab": {
          "base_uri": "https://localhost:8080/"
        },
        "outputId": "3ed4bf12-12c2-4ef7-c2a5-0ad9eebafa70"
      },
      "source": [
        "calcula_media(10,9,8, margem=0.55)"
      ],
      "execution_count": null,
      "outputs": [
        {
          "output_type": "execute_result",
          "data": {
            "text/plain": [
              "9.55"
            ]
          },
          "metadata": {
            "tags": []
          },
          "execution_count": 25
        }
      ]
    },
    {
      "cell_type": "code",
      "metadata": {
        "id": "Cg6cf8xfrMhJ"
      },
      "source": [
        "#Kwargs key world arguments\n",
        "\n",
        "def print_info(**kwargs): #novamente, o nome de varialve é uma convenção\n",
        "    print(kwargs, type(kwargs))"
      ],
      "execution_count": null,
      "outputs": []
    },
    {
      "cell_type": "code",
      "metadata": {
        "id": "eUXRIERHsXnX",
        "colab": {
          "base_uri": "https://localhost:8080/"
        },
        "outputId": "dbfc3b85-56f3-44ca-cf68-ff399e880f3f"
      },
      "source": [
        "#ao chamar esta função todos os parametros devem ser nomeados. Ou, ao menos aqueles dedicados ao kwargs\n",
        "print_info(nome = \"Diogo\", sobrenome= \"Vieira\")"
      ],
      "execution_count": null,
      "outputs": [
        {
          "output_type": "stream",
          "text": [
            "{'nome': 'Diogo', 'sobrenome': 'Vieira'} <class 'dict'>\n"
          ],
          "name": "stdout"
        }
      ]
    },
    {
      "cell_type": "markdown",
      "metadata": {
        "id": "a7Ac2EEtAsxc"
      },
      "source": [
        "Manipulação de arquivos\n",
        "\n",
        "codificação de arquivos\n",
        "\n"
      ]
    },
    {
      "cell_type": "code",
      "metadata": {
        "id": "BXmSNwpisn13",
        "outputId": "aee2fbd3-236f-43cf-f2c9-be6cb6693699",
        "colab": {
          "base_uri": "https://localhost:8080/"
        }
      },
      "source": [
        "#Abrindo arquivos em python. \n",
        "#criar uma variavel e atribuir a ela a função \"open\" que recebe como parametros o caminho do arquivo e o modo como sera aberto\n",
        "#após abrir os arquivos devemos fechalos\n",
        "\n",
        "arquivo = open(\"texto.txt\" , \"r\")\n",
        "texto = arquivo.read()\n",
        "print(texto)\n",
        "arquivo.close()\n",
        "\n",
        "#caso retorne um erro de encode, acrescentar nos parametros da função open:\n",
        "# encoding = \"utf-8\""
      ],
      "execution_count": 2,
      "outputs": [
        {
          "output_type": "stream",
          "text": [
            "Dom Casmurro \n",
            "\n",
            "Texto de referenda: \n",
            "Obras Completas de Machado de Assis, vol. I, \n",
            "Nova Aguilar, Rio de Janeiro, 1994. \n",
            "Publicado originalmente pela Editora Gamier, Rio de Janeiro, 1899. \n",
            "\n",
            "\n",
            "CAPITULO PRIMEIRO \n",
            "DO TITULO \n",
            "\n",
            "Uma noite destas, vindo da cidade para o Engenho Novo, encontrei no trem da \n",
            "Central um rapaz aqui do bairro, que eu conhego de vista e de chapeu. \n",
            "Cumprimentou-me, sentou-se ao pe de mim, falou da Lua e dos ministros, e \n",
            "acabou recitando-me versos. A viagem era curta, e os versos pode ser que nao \n",
            "fossem inteiramente maus. Sucedeu, porem, que, como eu estava cansado, fechei \n",
            "os olhos tres ou quatro vezes; tanto bastou para que ele interrompesse a leitura e \n",
            "metesse os versos no bolso. \n",
            "\n",
            "— Continue, disse eu acordando. \n",
            "\n",
            "— Ja acabei, murmurou ele. \n",
            "\n",
            "— Sao muito bonitos. \n",
            "\n",
            "Vi-lhe fazer um gesto para tira-los outra vez do bolso, mas nao passou do gesto; \n",
            "estava amuado. No dia seguinte entrou a dizer de mim nomes feios, e acabou \n",
            "alcunhando-me Dom Casmurro. Os vizinhos, que nao gostam dos meus habitos \n",
            "reclusos e calados, deram curso a alcunha, que afinal pegou. Nem por isso me \n",
            "zanguei. Contei a anedota aos amigos da cidade, e eles, por graga, chamam-me \n",
            "assim, alguns em bilhetes: \"Dom Casmurro, domingo vou jantar com voce”.— \n",
            "\"Vou para Petropolis, Dom Casmurro; a casa e a mesma da Renania; ve se deixas \n",
            "essa caverna do Engenho Novo, e vai la passar uns quinze dias comigo\".— \"Meu \n",
            "caro Dom Casmurro, nao cuide que o dispenso do teatro amanha; venha e dormira \n",
            "aqui na cidade; dou-lhe camarote, dou-lhe cha, dou-lhe cama; so nao Ihe dou \n",
            "moga”. \n",
            "\n",
            "Nao consultes dicionarios. Casmurro nao esta aqui no sentido que eles Ihe dao, \n",
            "mas no que Ihe pos o vulgo de homem calado e metido consigo. Dom veio por \n",
            "ironia, para atribuir-me fumos de fidalgo. Tudo por estar cochilando! Tambem nao \n",
            "achei melhor titulo para a minha narracao; se nao tiver outro daqui ate ao fim do \n",
            "livro, vai este mesmo. O meu poeta do trem ficara sabendo que nao Ihe guardo \n",
            "rancor. E com pequeno esforco, sendo o titulo seu, podera cuidar que a obra e \n",
            "sua. Ha livros que apenas terao isso dos seus autores; alguns nem tanto. \n",
            "\n"
          ],
          "name": "stdout"
        }
      ]
    },
    {
      "cell_type": "code",
      "metadata": {
        "id": "SifZ_KnzC4sl",
        "outputId": "09f7d0cd-f3b0-45aa-85ff-4f6a7986371a",
        "colab": {
          "base_uri": "https://localhost:8080/"
        }
      },
      "source": [
        "# caso queira analisar o arquivo linha a linha:\n",
        "arquivo = open(\"texto.txt\" , \"r\")\n",
        "linha = arquivo.readline() #readline le apenas uma linha por vez. Cada vez que é chamado, lê a linha seguinte\n",
        "while linha != \"\": #enquanto o valor de linha for diferente de um valor vazio, ou seka, o fim do arquivo\n",
        "  print(linha, end=\"\")\n",
        "  linha = arquivo.readline()\n",
        "arquivo.close()  \n",
        "#resultado ok, passou por todas as linhas do texto"
      ],
      "execution_count": 3,
      "outputs": [
        {
          "output_type": "stream",
          "text": [
            "Dom Casmurro \n",
            "\n",
            "Texto de referenda: \n",
            "Obras Completas de Machado de Assis, vol. I, \n",
            "Nova Aguilar, Rio de Janeiro, 1994. \n",
            "Publicado originalmente pela Editora Gamier, Rio de Janeiro, 1899. \n",
            "\n",
            "\n",
            "CAPITULO PRIMEIRO \n",
            "DO TITULO \n",
            "\n",
            "Uma noite destas, vindo da cidade para o Engenho Novo, encontrei no trem da \n",
            "Central um rapaz aqui do bairro, que eu conhego de vista e de chapeu. \n",
            "Cumprimentou-me, sentou-se ao pe de mim, falou da Lua e dos ministros, e \n",
            "acabou recitando-me versos. A viagem era curta, e os versos pode ser que nao \n",
            "fossem inteiramente maus. Sucedeu, porem, que, como eu estava cansado, fechei \n",
            "os olhos tres ou quatro vezes; tanto bastou para que ele interrompesse a leitura e \n",
            "metesse os versos no bolso. \n",
            "\n",
            "— Continue, disse eu acordando. \n",
            "\n",
            "— Ja acabei, murmurou ele. \n",
            "\n",
            "— Sao muito bonitos. \n",
            "\n",
            "Vi-lhe fazer um gesto para tira-los outra vez do bolso, mas nao passou do gesto; \n",
            "estava amuado. No dia seguinte entrou a dizer de mim nomes feios, e acabou \n",
            "alcunhando-me Dom Casmurro. Os vizinhos, que nao gostam dos meus habitos \n",
            "reclusos e calados, deram curso a alcunha, que afinal pegou. Nem por isso me \n",
            "zanguei. Contei a anedota aos amigos da cidade, e eles, por graga, chamam-me \n",
            "assim, alguns em bilhetes: \"Dom Casmurro, domingo vou jantar com voce”.— \n",
            "\"Vou para Petropolis, Dom Casmurro; a casa e a mesma da Renania; ve se deixas \n",
            "essa caverna do Engenho Novo, e vai la passar uns quinze dias comigo\".— \"Meu \n",
            "caro Dom Casmurro, nao cuide que o dispenso do teatro amanha; venha e dormira \n",
            "aqui na cidade; dou-lhe camarote, dou-lhe cha, dou-lhe cama; so nao Ihe dou \n",
            "moga”. \n",
            "\n",
            "Nao consultes dicionarios. Casmurro nao esta aqui no sentido que eles Ihe dao, \n",
            "mas no que Ihe pos o vulgo de homem calado e metido consigo. Dom veio por \n",
            "ironia, para atribuir-me fumos de fidalgo. Tudo por estar cochilando! Tambem nao \n",
            "achei melhor titulo para a minha narracao; se nao tiver outro daqui ate ao fim do \n",
            "livro, vai este mesmo. O meu poeta do trem ficara sabendo que nao Ihe guardo \n",
            "rancor. E com pequeno esforco, sendo o titulo seu, podera cuidar que a obra e \n",
            "sua. Ha livros que apenas terao isso dos seus autores; alguns nem tanto. \n"
          ],
          "name": "stdout"
        }
      ]
    },
    {
      "cell_type": "code",
      "metadata": {
        "id": "bjUEkCdbEjUh",
        "outputId": "e843c0f1-801d-4fa4-b275-256732f17ffe",
        "colab": {
          "base_uri": "https://localhost:8080/"
        }
      },
      "source": [
        "#mesmo exemplo utilizando o \"for\" no lugar do \"while\"\n",
        "arquivo = open(\"texto.txt\" , \"r\")\n",
        "for linha in arquivo:\n",
        "  print(linha, end=\"\")\n",
        "arquivo.close()  \n"
      ],
      "execution_count": 4,
      "outputs": [
        {
          "output_type": "stream",
          "text": [
            "Dom Casmurro \n",
            "\n",
            "Texto de referenda: \n",
            "Obras Completas de Machado de Assis, vol. I, \n",
            "Nova Aguilar, Rio de Janeiro, 1994. \n",
            "Publicado originalmente pela Editora Gamier, Rio de Janeiro, 1899. \n",
            "\n",
            "\n",
            "CAPITULO PRIMEIRO \n",
            "DO TITULO \n",
            "\n",
            "Uma noite destas, vindo da cidade para o Engenho Novo, encontrei no trem da \n",
            "Central um rapaz aqui do bairro, que eu conhego de vista e de chapeu. \n",
            "Cumprimentou-me, sentou-se ao pe de mim, falou da Lua e dos ministros, e \n",
            "acabou recitando-me versos. A viagem era curta, e os versos pode ser que nao \n",
            "fossem inteiramente maus. Sucedeu, porem, que, como eu estava cansado, fechei \n",
            "os olhos tres ou quatro vezes; tanto bastou para que ele interrompesse a leitura e \n",
            "metesse os versos no bolso. \n",
            "\n",
            "— Continue, disse eu acordando. \n",
            "\n",
            "— Ja acabei, murmurou ele. \n",
            "\n",
            "— Sao muito bonitos. \n",
            "\n",
            "Vi-lhe fazer um gesto para tira-los outra vez do bolso, mas nao passou do gesto; \n",
            "estava amuado. No dia seguinte entrou a dizer de mim nomes feios, e acabou \n",
            "alcunhando-me Dom Casmurro. Os vizinhos, que nao gostam dos meus habitos \n",
            "reclusos e calados, deram curso a alcunha, que afinal pegou. Nem por isso me \n",
            "zanguei. Contei a anedota aos amigos da cidade, e eles, por graga, chamam-me \n",
            "assim, alguns em bilhetes: \"Dom Casmurro, domingo vou jantar com voce”.— \n",
            "\"Vou para Petropolis, Dom Casmurro; a casa e a mesma da Renania; ve se deixas \n",
            "essa caverna do Engenho Novo, e vai la passar uns quinze dias comigo\".— \"Meu \n",
            "caro Dom Casmurro, nao cuide que o dispenso do teatro amanha; venha e dormira \n",
            "aqui na cidade; dou-lhe camarote, dou-lhe cha, dou-lhe cama; so nao Ihe dou \n",
            "moga”. \n",
            "\n",
            "Nao consultes dicionarios. Casmurro nao esta aqui no sentido que eles Ihe dao, \n",
            "mas no que Ihe pos o vulgo de homem calado e metido consigo. Dom veio por \n",
            "ironia, para atribuir-me fumos de fidalgo. Tudo por estar cochilando! Tambem nao \n",
            "achei melhor titulo para a minha narracao; se nao tiver outro daqui ate ao fim do \n",
            "livro, vai este mesmo. O meu poeta do trem ficara sabendo que nao Ihe guardo \n",
            "rancor. E com pequeno esforco, sendo o titulo seu, podera cuidar que a obra e \n",
            "sua. Ha livros que apenas terao isso dos seus autores; alguns nem tanto. \n"
          ],
          "name": "stdout"
        }
      ]
    },
    {
      "cell_type": "code",
      "metadata": {
        "id": "door6tykE8MH",
        "outputId": "0b5f8e3d-2cff-4fa2-fe29-ab49ce2bff9f",
        "colab": {
          "base_uri": "https://localhost:8080/"
        }
      },
      "source": [
        "#outras formnas de fechar o arquivo com o \"with\"\n",
        "with open (\"texto.txt\", \"r\") as arquivo:  #atribuir um nome a essa nova variavel, ao final do bloco de codigo o arquivo sera fechado\n",
        "  texto = arquivo.read()\n",
        "  print(texto)\n",
        "  "
      ],
      "execution_count": 7,
      "outputs": [
        {
          "output_type": "stream",
          "text": [
            "Dom Casmurro \n",
            "\n",
            "Texto de referenda: \n",
            "Obras Completas de Machado de Assis, vol. I, \n",
            "Nova Aguilar, Rio de Janeiro, 1994. \n",
            "Publicado originalmente pela Editora Gamier, Rio de Janeiro, 1899. \n",
            "\n",
            "\n",
            "CAPITULO PRIMEIRO \n",
            "DO TITULO \n",
            "\n",
            "Uma noite destas, vindo da cidade para o Engenho Novo, encontrei no trem da \n",
            "Central um rapaz aqui do bairro, que eu conhego de vista e de chapeu. \n",
            "Cumprimentou-me, sentou-se ao pe de mim, falou da Lua e dos ministros, e \n",
            "acabou recitando-me versos. A viagem era curta, e os versos pode ser que nao \n",
            "fossem inteiramente maus. Sucedeu, porem, que, como eu estava cansado, fechei \n",
            "os olhos tres ou quatro vezes; tanto bastou para que ele interrompesse a leitura e \n",
            "metesse os versos no bolso. \n",
            "\n",
            "— Continue, disse eu acordando. \n",
            "\n",
            "— Ja acabei, murmurou ele. \n",
            "\n",
            "— Sao muito bonitos. \n",
            "\n",
            "Vi-lhe fazer um gesto para tira-los outra vez do bolso, mas nao passou do gesto; \n",
            "estava amuado. No dia seguinte entrou a dizer de mim nomes feios, e acabou \n",
            "alcunhando-me Dom Casmurro. Os vizinhos, que nao gostam dos meus habitos \n",
            "reclusos e calados, deram curso a alcunha, que afinal pegou. Nem por isso me \n",
            "zanguei. Contei a anedota aos amigos da cidade, e eles, por graga, chamam-me \n",
            "assim, alguns em bilhetes: \"Dom Casmurro, domingo vou jantar com voce”.— \n",
            "\"Vou para Petropolis, Dom Casmurro; a casa e a mesma da Renania; ve se deixas \n",
            "essa caverna do Engenho Novo, e vai la passar uns quinze dias comigo\".— \"Meu \n",
            "caro Dom Casmurro, nao cuide que o dispenso do teatro amanha; venha e dormira \n",
            "aqui na cidade; dou-lhe camarote, dou-lhe cha, dou-lhe cama; so nao Ihe dou \n",
            "moga”. \n",
            "\n",
            "Nao consultes dicionarios. Casmurro nao esta aqui no sentido que eles Ihe dao, \n",
            "mas no que Ihe pos o vulgo de homem calado e metido consigo. Dom veio por \n",
            "ironia, para atribuir-me fumos de fidalgo. Tudo por estar cochilando! Tambem nao \n",
            "achei melhor titulo para a minha narracao; se nao tiver outro daqui ate ao fim do \n",
            "livro, vai este mesmo. O meu poeta do trem ficara sabendo que nao Ihe guardo \n",
            "rancor. E com pequeno esforco, sendo o titulo seu, podera cuidar que a obra e \n",
            "sua. Ha livros que apenas terao isso dos seus autores; alguns nem tanto. \n",
            "\n"
          ],
          "name": "stdout"
        }
      ]
    },
    {
      "cell_type": "code",
      "metadata": {
        "id": "uYYeKf50FbEN"
      },
      "source": [
        "#escrita em arquivo, criando do zero\n",
        "# o modo \"w\" cria um arquivo caso não encontre e, caso encontre, sobrescreve o arquivo original\n",
        "with open(\"arquivo_teste.txt\", \"w\") as arquivo:\n",
        "  arquivo.write(\"Essa é uma linha que eu escrevi usando Python\\n\") # \\n  é a quebra de linha no python\n",
        "  arquivo.write(\"Essa é a segunda linha que eu escrevi usando Python\\n\")"
      ],
      "execution_count": 8,
      "outputs": []
    },
    {
      "cell_type": "code",
      "metadata": {
        "id": "l6xQFm6BGcqu",
        "outputId": "ae81c26d-deea-483e-97b8-c7fb806d301e",
        "colab": {
          "base_uri": "https://localhost:8080/"
        }
      },
      "source": [
        "with open(\"arquivo_teste.txt\", \"r\") as arquivo:\n",
        "  print(arquivo.read(), end=\"\")"
      ],
      "execution_count": 9,
      "outputs": [
        {
          "output_type": "stream",
          "text": [
            "Essa é uma linha que eu escrevi usando Python\n",
            "Essa é a segunda linha que eu escrevi usando Python\n"
          ],
          "name": "stdout"
        }
      ]
    },
    {
      "cell_type": "code",
      "metadata": {
        "id": "xJ-FbGSwGjDL"
      },
      "source": [
        "#para adicionar um texto, a função é a mesma mudando apenas o modo de abertura\n",
        "with open(\"arquivo_teste.txt\", \"a\") as arquivo:\n",
        "  arquivo.write(\"Essa é a terceira linha que eu escrevi usando Python\\n\")\n",
        "  \n"
      ],
      "execution_count": 11,
      "outputs": []
    },
    {
      "cell_type": "code",
      "metadata": {
        "id": "XnuiL3iAG5s6",
        "outputId": "619434cd-6c2f-4f82-eb2b-2f6b5d8faf7c",
        "colab": {
          "base_uri": "https://localhost:8080/"
        }
      },
      "source": [
        "# os metodos dependem do tipo de abertura de arquivo. chamando r+, temos as opções de escrita e leitura\n",
        "with open(\"arquivo_teste.txt\", \"r\") as arquivo:\n",
        "    print(arquivo.read(), end = \"\")"
      ],
      "execution_count": 12,
      "outputs": [
        {
          "output_type": "stream",
          "text": [
            "Essa é uma linha que eu escrevi usando Python\n",
            "Essa é a segunda linha que eu escrevi usando Python\n",
            "Essa é a terceira linha que eu escrevi usando Python\n",
            "Essa é a terceira linha que eu escrevi usando Python\n"
          ],
          "name": "stdout"
        }
      ]
    },
    {
      "cell_type": "markdown",
      "metadata": {
        "id": "2BNaxMA4HwRJ"
      },
      "source": [
        "# **Arquivos CSV**\n",
        "\n"
      ]
    },
    {
      "cell_type": "code",
      "metadata": {
        "id": "ASWiBvkIHUEi"
      },
      "source": [
        "#importar csv\n",
        "import csv"
      ],
      "execution_count": 13,
      "outputs": []
    },
    {
      "cell_type": "code",
      "metadata": {
        "id": "nZWpYGq3Jo_-",
        "outputId": "4669bfcb-9b5a-4c5d-c17c-84ee7778c1c2",
        "colab": {
          "base_uri": "https://localhost:8080/"
        }
      },
      "source": [
        "with open(\"brasil_covid.csv\", \"r\") as arquivo_csv:\n",
        "  leitor = csv.reader(arquivo_csv)\n",
        "  header = next(leitor) #pula uma das iterações, ignorando o cabeçalho\n",
        "  for linha in leitor:\n",
        "    if float (linha[2])> 1:\n",
        "      print(linha)\n",
        "#a primeira linha é o cabeçalho"
      ],
      "execution_count": 20,
      "outputs": [
        {
          "output_type": "stream",
          "text": [
            "['2020-03-06', 'Brasil', '5', '0', '8', '0']\n",
            "['2020-03-07', 'Brasil', '5', '0', '13', '0']\n",
            "['2020-03-09', 'Brasil', '12', '0', '25', '0']\n",
            "['2020-03-11', 'Brasil', '9', '0', '34', '0']\n",
            "['2020-03-12', 'Brasil', '18', '0', '52', '0']\n",
            "['2020-03-13', 'Brasil', '25', '0', '77', '0']\n",
            "['2020-03-14', 'Brasil', '21', '0', '98', '0']\n",
            "['2020-03-15', 'Brasil', '23', '0', '121', '0']\n",
            "['2020-03-16', 'Brasil', '79', '0', '200', '0']\n",
            "['2020-03-17', 'Brasil', '34', '0', '234', '0']\n",
            "['2020-03-18', 'Brasil', '57', '1', '291', '1']\n",
            "['2020-03-19', 'Brasil', '137', '3', '428', '4']\n",
            "['2020-03-20', 'Brasil', '193', '2', '621', '6']\n",
            "['2020-03-21', 'Brasil', '283', '5', '904', '11']\n",
            "['2020-03-22', 'Brasil', '224', '7', '1128', '18']\n",
            "['2020-03-23', 'Brasil', '418', '7', '1546', '25']\n",
            "['2020-03-24', 'Brasil', '345', '9', '1891', '34']\n",
            "['2020-03-25', 'Brasil', '310', '12', '2201', '46']\n",
            "['2020-03-26', 'Brasil', '232', '11', '2433', '57']\n",
            "['2020-03-27', 'Brasil', '482', '20', '2915', '77']\n",
            "['2020-03-28', 'Brasil', '502', '15', '3417', '92']\n",
            "['2020-03-29', 'Brasil', '487', '22', '3904', '114']\n",
            "['2020-03-30', 'Brasil', '352', '22', '4256', '136']\n",
            "['2020-03-31', 'Brasil', '323', '23', '4579', '159']\n",
            "['2020-04-01', 'Brasil', '1138', '42', '5717', '201']\n",
            "['2020-04-02', 'Brasil', '1119', '40', '6836', '241']\n",
            "['2020-04-03', 'Brasil', '1074', '58', '7910', '299']\n",
            "['2020-04-04', 'Brasil', '1146', '60', '9056', '359']\n",
            "['2020-04-05', 'Brasil', '1222', '73', '10278', '432']\n",
            "['2020-04-06', 'Brasil', '852', '54', '11130', '486']\n",
            "['2020-04-07', 'Brasil', '926', '67', '12056', '553']\n",
            "['2020-04-08', 'Brasil', '1661', '114', '13717', '667']\n",
            "['2020-04-09', 'Brasil', '2210', '133', '15927', '800']\n",
            "['2020-04-10', 'Brasil', '1930', '141', '17857', '941']\n",
            "['2020-04-11', 'Brasil', '1781', '115', '19638', '1056']\n",
            "['2020-04-12', 'Brasil', '1089', '68', '20727', '1124']\n",
            "['2020-04-13', 'Brasil', '1442', '99', '22169', '1223']\n",
            "['2020-04-14', 'Brasil', '1261', '105', '23430', '1328']\n",
            "['2020-04-15', 'Brasil', '1832', '204', '25262', '1532']\n",
            "['2020-04-16', 'Brasil', '3058', '204', '28320', '1736']\n",
            "['2020-04-17', 'Brasil', '2105', '188', '30425', '1924']\n",
            "['2020-04-18', 'Brasil', '3257', '217', '33682', '2141']\n",
            "['2020-04-19', 'Brasil', '2917', '206', '36599', '2347']\n",
            "['2020-04-20', 'Brasil', '2055', '115', '38654', '2462']\n",
            "['2020-04-21', 'Brasil', '1927', '113', '40581', '2575']\n",
            "['2020-04-22', 'Brasil', '2498', '166', '43079', '2741']\n",
            "['2020-04-23', 'Brasil', '2678', '165', '45757', '2906']\n",
            "['2020-04-24', 'Brasil', '3735', '407', '49492', '3313']\n",
            "['2020-04-25', 'Brasil', '3503', '357', '52995', '3670']\n",
            "['2020-04-26', 'Brasil', '5514', '346', '58509', '4016']\n",
            "['2020-04-27', 'Brasil', '3379', '189', '61888', '4205']\n",
            "['2020-04-28', 'Brasil', '4613', '338', '66501', '4543']\n",
            "['2020-04-29', 'Brasil', '5385', '474', '71886', '5017']\n",
            "['2020-04-30', 'Brasil', '6276', '449', '78162', '5466']\n",
            "['2020-05-01', 'Brasil', '7218', '435', '85380', '5901']\n",
            "['2020-05-02', 'Brasil', '6209', '428', '91589', '6329']\n",
            "['2020-05-03', 'Brasil', '4970', '421', '96559', '6750']\n",
            "['2020-05-04', 'Brasil', '4588', '275', '101147', '7025']\n",
            "['2020-05-05', 'Brasil', '6633', '296', '107780', '7321']\n",
            "['2020-05-06', 'Brasil', '6935', '600', '114715', '7921']\n",
            "['2020-05-07', 'Brasil', '10503', '615', '125218', '8536']\n",
            "['2020-05-08', 'Brasil', '9888', '610', '135106', '9146']\n",
            "['2020-05-09', 'Brasil', '10222', '751', '145328', '9897']\n",
            "['2020-05-10', 'Brasil', '10611', '730', '155939', '10627']\n",
            "['2020-05-11', 'Brasil', '6760', '496', '162699', '11123']\n",
            "['2020-05-12', 'Brasil', '5632', '396', '168331', '11519']\n",
            "['2020-05-13', 'Brasil', '9258', '881', '177589', '12400']\n",
            "['2020-05-14', 'Brasil', '11385', '749', '188974', '13149']\n",
            "['2020-05-15', 'Brasil', '13944', '844', '202918', '13993']\n",
            "['2020-05-16', 'Brasil', '15305', '824', '218223', '14817']\n",
            "['2020-05-17', 'Brasil', '14919', '816', '233142', '15633']\n",
            "['2020-05-18', 'Brasil', '7938', '485', '241080', '16118']\n",
            "['2020-05-19', 'Brasil', '13140', '674', '254220', '16792']\n",
            "['2020-05-20', 'Brasil', '17408', '1179', '271628', '17971']\n",
            "['2020-05-21', 'Brasil', '19951', '888', '291579', '18859']\n",
            "['2020-05-22', 'Brasil', '18508', '1188', '310087', '20047']\n",
            "['2020-05-23', 'Brasil', '20803', '1001', '330890', '21048']\n",
            "['2020-05-24', 'Brasil', '16508', '965', '347398', '22013']\n",
            "['2020-05-25', 'Brasil', '15813', '653', '363211', '22666']\n",
            "['2020-05-26', 'Brasil', '11687', '807', '374898', '23473']\n",
            "['2020-05-27', 'Brasil', '16324', '1039', '391222', '24512']\n",
            "['2020-05-28', 'Brasil', '20599', '1086', '411821', '25598']\n",
            "['2020-05-29', 'Brasil', '26417', '1156', '438238', '26754']\n",
            "['2020-05-30', 'Brasil', '26928', '1124', '465166', '27878']\n",
            "['2020-05-31', 'Brasil', '33274', '956', '498440', '28834']\n",
            "['2020-06-01', 'Brasil', '16409', '480', '514849', '29314']\n",
            "['2020-06-02', 'Brasil', '11598', '623', '526447', '29937']\n",
            "['2020-06-03', 'Brasil', '28936', '1262', '555383', '31199']\n",
            "['2020-06-04', 'Brasil', '28633', '1349', '584016', '32548']\n",
            "['2020-06-05', 'Brasil', '30916', '1473', '614932', '34021']\n",
            "['2020-06-06', 'Brasil', '30830', '1005', '645762', '35026']\n",
            "['2020-06-07', 'Brasil', '27075', '904', '672837', '35930']\n",
            "['2020-06-08', 'Brasil', '18921', '525', '691758', '36455']\n",
            "['2020-06-09', 'Brasil', '15654', '679', '707412', '37134']\n",
            "['2020-06-10', 'Brasil', '32091', '1272', '739503', '38406']\n",
            "['2020-06-11', 'Brasil', '32913', '1274', '772416', '39680']\n",
            "['2020-06-12', 'Brasil', '30412', '1239', '802828', '40919']\n",
            "['2020-06-13', 'Brasil', '25982', '909', '828810', '41828']\n",
            "['2020-06-14', 'Brasil', '21704', '892', '850514', '42720']\n",
            "['2020-06-15', 'Brasil', '17110', '612', '867624', '43332']\n",
            "['2020-06-16', 'Brasil', '20647', '627', '888271', '43959']\n"
          ],
          "name": "stdout"
        }
      ]
    },
    {
      "cell_type": "code",
      "metadata": {
        "id": "8wo8t44pJ4a8"
      },
      "source": [
        "#escrita em arquivo csv, pode-ser escrever uma linha por vez ou diversas. a primeira linha é o cabeçalho\n",
        "with open(\"users.csv\", \"w\") as arquivo_users: #caso esteja adicionando quebra de linha, inserir nos parametros de open, newline = \"\"\n",
        "  escritor = csv.writer(arquivo_users)\n",
        "  escritor.writerow([\"nome\",\"sobrenome\", \"e-mail\", \"genero\"])\n",
        "  escritor.writerow([\"Diogo\", \"Vieira\", \"dio@fmasl.com\", \"masculino\"]) "
      ],
      "execution_count": 28,
      "outputs": []
    },
    {
      "cell_type": "code",
      "metadata": {
        "id": "_IsVaP0MM7_g",
        "outputId": "55d42934-981f-4c09-e074-fea7e7b39e0b",
        "colab": {
          "base_uri": "https://localhost:8080/"
        }
      },
      "source": [
        "with open(\"users.csv\", \"r\") as arquivo_users:\n",
        "  leitor = csv.reader(arquivo_users)\n",
        "  for linha in leitor:\n",
        "    print(linha)"
      ],
      "execution_count": 29,
      "outputs": [
        {
          "output_type": "stream",
          "text": [
            "['nome', 'sobrenome', 'e-mail', 'genero']\n",
            "['Diogo', 'Vieira', 'dio@fmasl.com', 'masculino']\n"
          ],
          "name": "stdout"
        }
      ]
    },
    {
      "cell_type": "markdown",
      "metadata": {
        "id": "kMtAR9KeRIXz"
      },
      "source": [
        "API's\n",
        "\n",
        "Uma interface online que permite a comunicação com algum tipo de dado"
      ]
    },
    {
      "cell_type": "code",
      "metadata": {
        "id": "vSwjJHIqNNqk",
        "outputId": "f92f0003-4b79-4f02-e19f-a12b599b388d",
        "colab": {
          "base_uri": "https://localhost:8080/"
        }
      },
      "source": [
        "#Api para conversao de moedas internacionais\n",
        "#Sempre verificar a documentação da API. Dados retornados pela APi, JASON.\n",
        "#biblioteca request, é preciso instalar ela atraves do pip\n",
        "\n",
        "!pip install requests"
      ],
      "execution_count": 30,
      "outputs": [
        {
          "output_type": "stream",
          "text": [
            "Requirement already satisfied: requests in /usr/local/lib/python3.7/dist-packages (2.23.0)\n",
            "Requirement already satisfied: chardet<4,>=3.0.2 in /usr/local/lib/python3.7/dist-packages (from requests) (3.0.4)\n",
            "Requirement already satisfied: idna<3,>=2.5 in /usr/local/lib/python3.7/dist-packages (from requests) (2.10)\n",
            "Requirement already satisfied: urllib3!=1.25.0,!=1.25.1,<1.26,>=1.21.1 in /usr/local/lib/python3.7/dist-packages (from requests) (1.24.3)\n",
            "Requirement already satisfied: certifi>=2017.4.17 in /usr/local/lib/python3.7/dist-packages (from requests) (2021.5.30)\n"
          ],
          "name": "stdout"
        }
      ]
    },
    {
      "cell_type": "code",
      "metadata": {
        "id": "vtDoG4X-V_ZE"
      },
      "source": [
        "import requests"
      ],
      "execution_count": 31,
      "outputs": []
    },
    {
      "cell_type": "code",
      "metadata": {
        "id": "plKN9qWtWHUR",
        "outputId": "8e5c4954-94ca-4321-cf48-cd806e9c1e0d",
        "colab": {
          "base_uri": "https://localhost:8080/"
        }
      },
      "source": [
        "url = \"https://api.exchangerate-api.com/v6/latest\"\n",
        "\n",
        "req = requests.get(url)\n",
        "\n",
        "#diferentes verbos da requests\n",
        "\n",
        "print (req.status_code) #200 significa que foi atendida a requisição ok"
      ],
      "execution_count": 32,
      "outputs": [
        {
          "output_type": "stream",
          "text": [
            "200\n"
          ],
          "name": "stdout"
        }
      ]
    },
    {
      "cell_type": "code",
      "metadata": {
        "id": "0x35mLJlWjr_",
        "outputId": "c08b9fdc-7a85-4071-dc36-2fabb73028c9",
        "colab": {
          "base_uri": "https://localhost:8080/"
        }
      },
      "source": [
        "dados = req.json() #este metodo pegar o valor do json e transfora em um dicionario\n",
        "print(dados)"
      ],
      "execution_count": 35,
      "outputs": [
        {
          "output_type": "stream",
          "text": [
            "{'result': 'success', 'provider': 'https://www.exchangerate-api.com', 'documentation': 'https://www.exchangerate-api.com/docs/free', 'WARNING_NEW_ENDPOINT': 'Swap *api.exchangerate-api.com* with *open.er-api.com* for better servers!', 'terms_of_use': 'https://www.exchangerate-api.com/terms', 'time_last_update_unix': 1626652951, 'time_last_update_utc': 'Mon, 19 Jul 2021 00:02:31 +0000', 'time_next_update_unix': 1626739581, 'time_next_update_utc': 'Tue, 20 Jul 2021 00:06:21 +0000', 'time_eol_unix': 0, 'base_code': 'USD', 'rates': {'USD': 1, 'AED': 3.67, 'AFN': 79.74, 'ALL': 103.9, 'AMD': 494.78, 'ANG': 1.79, 'AOA': 647.62, 'ARS': 96.33, 'AUD': 1.35, 'AWG': 1.79, 'AZN': 1.7, 'BAM': 1.66, 'BBD': 2, 'BDT': 84.89, 'BGN': 1.66, 'BHD': 0.376, 'BIF': 1969.89, 'BMD': 1, 'BND': 1.35, 'BOB': 6.91, 'BRL': 5.1, 'BSD': 1, 'BTN': 74.64, 'BWP': 11.05, 'BYN': 2.54, 'BZD': 2, 'CAD': 1.26, 'CDF': 1978.53, 'CHF': 0.919, 'CLP': 757.94, 'CNY': 6.48, 'COP': 3822.84, 'CRC': 620.72, 'CUC': 1, 'CUP': 25.75, 'CVE': 93.32, 'CZK': 21.68, 'DJF': 177.72, 'DKK': 6.31, 'DOP': 57.17, 'DZD': 135.52, 'EGP': 15.72, 'ERN': 15, 'ETB': 43.84, 'EUR': 0.846, 'FJD': 2.08, 'FKP': 0.726, 'FOK': 6.31, 'GBP': 0.726, 'GEL': 3.12, 'GGP': 0.726, 'GHS': 5.95, 'GIP': 0.726, 'GMD': 51.8, 'GNF': 9773.06, 'GTQ': 7.76, 'GYD': 208.38, 'HKD': 7.77, 'HNL': 23.84, 'HRK': 6.38, 'HTG': 93.59, 'HUF': 305.77, 'IDR': 14513.68, 'ILS': 3.31, 'IMP': 0.726, 'INR': 74.64, 'IQD': 1453.15, 'IRR': 41841.76, 'ISK': 123.56, 'JMD': 154.22, 'JOD': 0.709, 'JPY': 110.04, 'KES': 108.23, 'KGS': 84.43, 'KHR': 4054.24, 'KID': 1.35, 'KMF': 416.37, 'KRW': 1143.02, 'KWD': 0.3, 'KYD': 0.833, 'KZT': 427.46, 'LAK': 9532.89, 'LBP': 1507.5, 'LKR': 199.04, 'LRD': 171.85, 'LSL': 14.39, 'LYD': 4.49, 'MAD': 8.96, 'MDL': 18.03, 'MGA': 3898.95, 'MKD': 52.13, 'MMK': 1647.7, 'MNT': 2838.26, 'MOP': 8, 'MRU': 35.99, 'MUR': 42.72, 'MVR': 15.4, 'MWK': 807.6, 'MXN': 19.93, 'MYR': 4.2, 'MZN': 63.88, 'NAD': 14.39, 'NGN': 416.17, 'NIO': 35.14, 'NOK': 8.83, 'NPR': 119.42, 'NZD': 1.43, 'OMR': 0.384, 'PAB': 1, 'PEN': 3.95, 'PGK': 3.52, 'PHP': 50.42, 'PKR': 159.87, 'PLN': 3.88, 'PYG': 6825.78, 'QAR': 3.64, 'RON': 4.16, 'RSD': 99.6, 'RUB': 74.13, 'RWF': 1005.46, 'SAR': 3.75, 'SBD': 7.94, 'SCR': 14, 'SDG': 440.9, 'SEK': 8.68, 'SGD': 1.35, 'SHP': 0.726, 'SLL': 10210.27, 'SOS': 576.25, 'SRD': 21.13, 'SSP': 177.58, 'STN': 20.74, 'SYP': 1260.94, 'SZL': 14.39, 'THB': 32.89, 'TJS': 11.31, 'TMT': 3.5, 'TND': 2.78, 'TOP': 2.24, 'TRY': 8.54, 'TTD': 6.79, 'TVD': 1.35, 'TWD': 27.99, 'TZS': 2315.88, 'UAH': 27.28, 'UGX': 3545.22, 'UYU': 44.07, 'UZS': 10527.23, 'VES': 3548283.85, 'VND': 23018.56, 'VUV': 110.96, 'WST': 2.56, 'XAF': 555.16, 'XCD': 2.7, 'XDR': 0.702, 'XOF': 555.16, 'XPF': 100.99, 'YER': 250.69, 'ZAR': 14.39, 'ZMW': 22.62}}\n"
          ],
          "name": "stdout"
        }
      ]
    },
    {
      "cell_type": "code",
      "metadata": {
        "id": "QMMEPiu4W6rf",
        "outputId": "c334fce9-b519-4e68-f93d-39c6cbf08302",
        "colab": {
          "base_uri": "https://localhost:8080/"
        }
      },
      "source": [
        "valor_reais = float(input(\"Informe o valor em R$ a ser convertido\\n\"))\n",
        "cotacao = dados[\"rates\"][\"BRL\"]\n",
        "print(f\"R$ {valor_reais} em dolar vale US$ {(valor_reais/ cotacao):.2f}\")"
      ],
      "execution_count": 37,
      "outputs": [
        {
          "output_type": "stream",
          "text": [
            "Informe o valor em R$ a ser convertido\n",
            "250\n",
            "R$ 250.0 em dolar vale US$ 49.02\n"
          ],
          "name": "stdout"
        }
      ]
    },
    {
      "cell_type": "code",
      "metadata": {
        "id": "AZhQGN0RXmIX"
      },
      "source": [
        "#para treinar e estudar amanha\n"
      ],
      "execution_count": null,
      "outputs": []
    },
    {
      "cell_type": "markdown",
      "metadata": {
        "id": "uH72svtZZYha"
      },
      "source": [
        "import datetime\n",
        "\n",
        "d = datetime.date(2001, 9, 11)\n",
        "tday = datetime.date.today()\n",
        "print(tday, d)\n",
        "\n",
        "\n",
        "# datetime.timedelta(days=0, seconds=0, microseconds=0, milliseconds=0, minutes=0, hours=0, weeks=0)\n",
        "\n",
        "tdelta = datetime.timedelta(hours=12)\n",
        "print(tday + tdelta)\n",
        "\n",
        "\n",
        "bday = datetime.date(2016, 9, 24)\n",
        "till_bday = bday - tday\n",
        "print(till_bday.days)\n",
        "\n",
        "dt_agora = datetime.datetime.now()\n",
        "print(dt_agora.strftime('%B %d, %Y'))\n",
        "\n",
        "dt_str = 'July 24, 2016'\n",
        "dt = datetime.datetime.strptime(dt_str, '%B %d, %Y')\n",
        "print(dt)\n",
        "\n",
        "# strftime - Datetime para String\n",
        "# strptime - String para Datetime"
      ]
    }
  ]
}