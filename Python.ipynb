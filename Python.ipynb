{
  "nbformat": 4,
  "nbformat_minor": 0,
  "metadata": {
    "colab": {
      "name": "Untitled3.ipynb",
      "provenance": [],
      "authorship_tag": "ABX9TyO06NqZv6cCw7cac8l92BRg",
      "include_colab_link": true
    },
    "kernelspec": {
      "name": "python3",
      "display_name": "Python 3"
    },
    "language_info": {
      "name": "python"
    }
  },
  "cells": [
    {
      "cell_type": "markdown",
      "metadata": {
        "id": "view-in-github",
        "colab_type": "text"
      },
      "source": [
        "<a href=\"https://colab.research.google.com/github/Vieira-Diogo/Producao_hospitalar_no_Brasil/blob/main/Python.ipynb\" target=\"_parent\"><img src=\"https://colab.research.google.com/assets/colab-badge.svg\" alt=\"Open In Colab\"/></a>"
      ]
    },
    {
      "cell_type": "markdown",
      "metadata": {
        "id": "FUDiTb3IKj_w"
      },
      "source": [
        "Estruturas de dados (utilizado para juntar ou estruturar dados)\n",
        "\n",
        " - Listas e Tuplas\n",
        "\n",
        "**Listas são coleções ou sequencias ordenadas de valores  em Python**\n",
        "\n",
        "Lista Vazia:\n",
        "listavazia = []\n",
        "\n",
        "lista com alguns valores:\n",
        "numeros = [1,2,3,4]\n",
        "\n",
        "listas podem mesclar diferentes tipos de valores:\n",
        "lista_mista = [14, \"let's code\", 0.1, True]\n",
        "\n",
        "listas são mutáveis, podemos alterar o valor de seus itens:\n",
        "numeros [2] = 5\n",
        "print(numeros)"
      ]
    },
    {
      "cell_type": "code",
      "metadata": {
        "colab": {
          "base_uri": "https://localhost:8080/"
        },
        "id": "AWVqQ3owKiLB",
        "outputId": "d0c50b7b-1663-4e6e-a67c-e5acff2e3d44"
      },
      "source": [
        "nomes_paises = [\"Brasil\", \"Argentina\", \"China\", \"Canada\", \"Japão\"]\n",
        "print (nomes_paises)"
      ],
      "execution_count": null,
      "outputs": [
        {
          "output_type": "stream",
          "text": [
            "['Brasil', 'Argentina', 'China', 'Canada', 'Japão']\n"
          ],
          "name": "stdout"
        }
      ]
    },
    {
      "cell_type": "code",
      "metadata": {
        "colab": {
          "base_uri": "https://localhost:8080/"
        },
        "id": "DO4BWimjM3Km",
        "outputId": "492cb6a3-a4fe-4f2a-ddd0-04d94f7baf0c"
      },
      "source": [
        "print(\"Tamanho da lista:\", len(nomes_paises))"
      ],
      "execution_count": null,
      "outputs": [
        {
          "output_type": "stream",
          "text": [
            "Tamanho da lista: 5\n"
          ],
          "name": "stdout"
        }
      ]
    },
    {
      "cell_type": "code",
      "metadata": {
        "colab": {
          "base_uri": "https://localhost:8080/"
        },
        "id": "vmb-YeFUNIWL",
        "outputId": "5767467e-4868-40af-e332-ada2ed168a3c"
      },
      "source": [
        "print(\"País:\",nomes_paises[4])"
      ],
      "execution_count": null,
      "outputs": [
        {
          "output_type": "stream",
          "text": [
            "País: Japão\n"
          ],
          "name": "stdout"
        }
      ]
    },
    {
      "cell_type": "code",
      "metadata": {
        "colab": {
          "base_uri": "https://localhost:8080/"
        },
        "id": "4w3r17EqNPe8",
        "outputId": "73f8c6d7-9b5a-4408-ce94-daf62763b500"
      },
      "source": [
        "print(\"Pais:\", nomes_paises[-1])"
      ],
      "execution_count": null,
      "outputs": [
        {
          "output_type": "stream",
          "text": [
            "Pais: Japão\n"
          ],
          "name": "stdout"
        }
      ]
    },
    {
      "cell_type": "code",
      "metadata": {
        "colab": {
          "base_uri": "https://localhost:8080/"
        },
        "id": "S70bKSnWNcnM",
        "outputId": "33981d08-2018-4369-eba7-ca98ab779dcb"
      },
      "source": [
        "#para sobrescrever um valor na lista, basta chamar a lista na posição desejada e atribuir o valor desejado\n",
        "nomes_paises[4] = \"Colômbia\"\n",
        "print(\"Pais:\", nomes_paises[-1])\n",
        "print(nomes_paises)"
      ],
      "execution_count": null,
      "outputs": [
        {
          "output_type": "stream",
          "text": [
            "Pais: Colômbia\n",
            "['Brasil', 'Argentina', 'China', 'Canada', 'Colômbia']\n"
          ],
          "name": "stdout"
        }
      ]
    },
    {
      "cell_type": "code",
      "metadata": {
        "colab": {
          "base_uri": "https://localhost:8080/"
        },
        "id": "yihGPhzzNud7",
        "outputId": "e742b4ff-97f7-4303-aebe-58ec8f571de5"
      },
      "source": [
        "# Slice ou \"fatiar\" o primeiro indice é includente e o segundo excludente. O print retorna o primeiro e segundo países\n",
        "print(nomes_paises[0:2])"
      ],
      "execution_count": null,
      "outputs": [
        {
          "output_type": "stream",
          "text": [
            "['Brasil', 'Argentina']\n"
          ],
          "name": "stdout"
        }
      ]
    },
    {
      "cell_type": "code",
      "metadata": {
        "colab": {
          "base_uri": "https://localhost:8080/"
        },
        "id": "ABEf685NN_iE",
        "outputId": "c6acc2f7-ca85-4cb3-d2cd-40cbb9d52901"
      },
      "source": [
        "#ao omitir o indice final, indico que desejo ir até o final da lista. o mesmo vale para o indice inicial\n",
        "print(nomes_paises[2:])\n",
        "print(nomes_paises[:])\n"
      ],
      "execution_count": null,
      "outputs": [
        {
          "output_type": "stream",
          "text": [
            "['China', 'Canada', 'Colômbia']\n",
            "['Brasil', 'Argentina', 'China', 'Canada', 'Colômbia']\n"
          ],
          "name": "stdout"
        }
      ]
    },
    {
      "cell_type": "code",
      "metadata": {
        "colab": {
          "base_uri": "https://localhost:8080/"
        },
        "id": "1z-4Aw5XOqlN",
        "outputId": "9c577e62-4874-44ea-e4fb-c1e33a9f5e75"
      },
      "source": [
        "# é possivel inserir um \"Step\", para que pule valores da lista de acordo com o step\n",
        "print(nomes_paises[::2])\n",
        "print(nomes_paises[::3])\n",
        "#ao usar um incremento negativo, podemos inverter a ordem da lista\n",
        "print(nomes_paises[::-1])"
      ],
      "execution_count": null,
      "outputs": [
        {
          "output_type": "stream",
          "text": [
            "['Brasil', 'China', 'Colômbia']\n",
            "['Brasil', 'Canada']\n",
            "['Colômbia', 'Canada', 'China', 'Argentina', 'Brasil']\n"
          ],
          "name": "stdout"
        }
      ]
    },
    {
      "cell_type": "code",
      "metadata": {
        "colab": {
          "base_uri": "https://localhost:8080/"
        },
        "id": "7WotueRyPCRB",
        "outputId": "6e8b0bd6-9862-4830-eff8-87c4367d9ec7"
      },
      "source": [
        "#para checar se existe um elemento dentra da lista, operador \"in\" que retoma um valor bool\n",
        "print(\"Brasil\" in nomes_paises)\n",
        "print(\"Canada\" not in nomes_paises)"
      ],
      "execution_count": null,
      "outputs": [
        {
          "output_type": "stream",
          "text": [
            "True\n",
            "False\n"
          ],
          "name": "stdout"
        }
      ]
    },
    {
      "cell_type": "code",
      "metadata": {
        "id": "MjmmxYkVPpB6"
      },
      "source": [
        "#adicionar elementos na lista\n",
        "lista_capitais = []"
      ],
      "execution_count": null,
      "outputs": []
    },
    {
      "cell_type": "code",
      "metadata": {
        "colab": {
          "base_uri": "https://localhost:8080/"
        },
        "id": "V-ZE7_77P8LQ",
        "outputId": "11b1e496-8a83-4e99-9fcf-501d55556c39"
      },
      "source": [
        "#utilização do metodo .append que adiciona o valor ao final da lista\n",
        "lista_capitais.append (\"Brasilia\")\n",
        "lista_capitais.append (\"Buenos Aires\")\n",
        "lista_capitais.append (\"Pequim\")\n",
        "lista_capitais.append (\"Bogotá\")\n",
        "\n",
        "print(lista_capitais)"
      ],
      "execution_count": null,
      "outputs": [
        {
          "output_type": "stream",
          "text": [
            "['Brasilia', 'Buenos Aires', 'Pequim', 'Bogotá']\n"
          ],
          "name": "stdout"
        }
      ]
    },
    {
      "cell_type": "code",
      "metadata": {
        "colab": {
          "base_uri": "https://localhost:8080/"
        },
        "id": "H9SFOeXWQmxc",
        "outputId": "25352755-6992-4fc9-adcc-74d1fc1a624d"
      },
      "source": [
        "#para insirir um valor em uma determinada posição, utilizamos o metodo \"insert\", declarando a posição e o valor que desejamos\n",
        "lista_capitais.insert(2, \"Paris\")\n",
        "print(lista_capitais)"
      ],
      "execution_count": null,
      "outputs": [
        {
          "output_type": "stream",
          "text": [
            "['Brasilia', 'Buenos Aires', 'Paris', 'Pequim', 'Bogotá']\n"
          ],
          "name": "stdout"
        }
      ]
    },
    {
      "cell_type": "code",
      "metadata": {
        "colab": {
          "base_uri": "https://localhost:8080/"
        },
        "id": "fZftRGPFRNlX",
        "outputId": "0481a305-7fec-4162-cf0a-3f0e3c6bec9e"
      },
      "source": [
        "#para deletar valores, \"remove\" informando o seu valor\n",
        "lista_capitais.remove(\"Buenos Aires\")\n",
        "print(lista_capitais)"
      ],
      "execution_count": null,
      "outputs": [
        {
          "output_type": "stream",
          "text": [
            "['Brasilia', 'Paris', 'Pequim', 'Bogotá']\n"
          ],
          "name": "stdout"
        }
      ]
    },
    {
      "cell_type": "code",
      "metadata": {
        "colab": {
          "base_uri": "https://localhost:8080/"
        },
        "id": "Y_O_mnp0RBzv",
        "outputId": "db785b61-1379-479e-edac-d82b14f5806a"
      },
      "source": [
        "#o metodo \"pop\" permite deletar o elemento a partir de sua posição na lista. Ele sempre retornar o valor removido\n",
        "removido = lista_capitais.pop(2)\n",
        "print(lista_capitais, removido)"
      ],
      "execution_count": null,
      "outputs": [
        {
          "output_type": "stream",
          "text": [
            "['Brasilia', 'Paris', 'Bogotá'] Pequim\n"
          ],
          "name": "stdout"
        }
      ]
    },
    {
      "cell_type": "code",
      "metadata": {
        "colab": {
          "base_uri": "https://localhost:8080/"
        },
        "id": "7EW4blxBRzgW",
        "outputId": "5d36223c-8057-4a00-9881-b8479b3395db"
      },
      "source": [
        "#Tuplas, são semelhantes as listas, sua principal diferença é que a tupla é imutável. Uma vez definida, não pode sofrer alterações\n",
        "#Tuplas são declaradas por ()\n",
        "nomes_paises = ('Brasil', 'Argentina', 'China', 'Canada', 'Japão')\n",
        "print(nomes_paises)\n"
      ],
      "execution_count": null,
      "outputs": [
        {
          "output_type": "stream",
          "text": [
            "('Brasil', 'Argentina', 'China', 'Canada', 'Japão')\n"
          ],
          "name": "stdout"
        }
      ]
    },
    {
      "cell_type": "code",
      "metadata": {
        "colab": {
          "base_uri": "https://localhost:8080/"
        },
        "id": "f3nCmqyITJh1",
        "outputId": "db903373-a58f-4caa-fe69-c24eb99e8bba"
      },
      "source": [
        "print(nomes_paises, type(nomes_paises))"
      ],
      "execution_count": null,
      "outputs": [
        {
          "output_type": "stream",
          "text": [
            "('Brasil', 'Argentina', 'China', 'Canada', 'Japão') <class 'tuple'>\n"
          ],
          "name": "stdout"
        }
      ]
    },
    {
      "cell_type": "code",
      "metadata": {
        "colab": {
          "base_uri": "https://localhost:8080/"
        },
        "id": "M4GrLw5gTSKr",
        "outputId": "825b4346-93d6-4932-b359-c4d53a81602d"
      },
      "source": [
        "#tupla de 1 elemento\n",
        "nome_estado = \"São Paulo\",\n",
        "print(nome_estado, type(nome_estado))"
      ],
      "execution_count": null,
      "outputs": [
        {
          "output_type": "stream",
          "text": [
            "('São Paulo',) <class 'tuple'>\n"
          ],
          "name": "stdout"
        }
      ]
    },
    {
      "cell_type": "code",
      "metadata": {
        "colab": {
          "base_uri": "https://localhost:8080/"
        },
        "id": "RzaIdLPjTkEL",
        "outputId": "1e6718c5-e7e0-4f61-da51-1e0c61333415"
      },
      "source": [
        "#tuplas permitem \"unpacking\", atribuir cada um dos valores da tupla a variaveis diferentes\n",
        "b, a, c, ca, j = nomes_paises\n",
        "print(b, a, c, ca, j)"
      ],
      "execution_count": null,
      "outputs": [
        {
          "output_type": "stream",
          "text": [
            "Brasil Argentina China Canada Japão\n"
          ],
          "name": "stdout"
        }
      ]
    },
    {
      "cell_type": "code",
      "metadata": {
        "colab": {
          "base_uri": "https://localhost:8080/"
        },
        "id": "o78PSYkmUFmq",
        "outputId": "af0ba92a-43ec-4e04-89d6-dce2ce9fdf73"
      },
      "source": [
        "print(*nomes_paises)"
      ],
      "execution_count": null,
      "outputs": [
        {
          "output_type": "stream",
          "text": [
            "Brasil Argentina China Canada Japão\n"
          ],
          "name": "stdout"
        }
      ]
    },
    {
      "cell_type": "markdown",
      "metadata": {
        "id": "tEyqFOsMUmUB"
      },
      "source": [
        "### **Funções de Strings**"
      ]
    },
    {
      "cell_type": "code",
      "metadata": {
        "colab": {
          "base_uri": "https://localhost:8080/"
        },
        "id": "yAI0_ocMUUE6",
        "outputId": "aa799193-dee5-472b-ab93-88f9e5303794"
      },
      "source": [
        "empresa = 'Google'\n",
        "print(empresa)"
      ],
      "execution_count": null,
      "outputs": [
        {
          "output_type": "stream",
          "text": [
            "Google\n"
          ],
          "name": "stdout"
        }
      ]
    },
    {
      "cell_type": "code",
      "metadata": {
        "colab": {
          "base_uri": "https://localhost:8080/",
          "height": 129
        },
        "id": "risWNG2EVEDJ",
        "outputId": "27f25e91-36e5-46d8-8d5d-df831ec332f0"
      },
      "source": [
        "empresa = 'let's code'"
      ],
      "execution_count": null,
      "outputs": [
        {
          "output_type": "error",
          "ename": "SyntaxError",
          "evalue": "ignored",
          "traceback": [
            "\u001b[0;36m  File \u001b[0;32m\"<ipython-input-33-ec6c0de5a4ea>\"\u001b[0;36m, line \u001b[0;32m1\u001b[0m\n\u001b[0;31m    empresa = 'let's code'\u001b[0m\n\u001b[0m                   ^\u001b[0m\n\u001b[0;31mSyntaxError\u001b[0m\u001b[0;31m:\u001b[0m invalid syntax\n"
          ]
        }
      ]
    },
    {
      "cell_type": "code",
      "metadata": {
        "colab": {
          "base_uri": "https://localhost:8080/"
        },
        "id": "gi0ahLnoVWFA",
        "outputId": "61a1c99b-e6b5-4f3d-840e-6b156eca7e21"
      },
      "source": [
        "empresa = \"Let's Code\"\n",
        "print(empresa)"
      ],
      "execution_count": null,
      "outputs": [
        {
          "output_type": "stream",
          "text": [
            "Let's Code\n"
          ],
          "name": "stdout"
        }
      ]
    },
    {
      "cell_type": "code",
      "metadata": {
        "colab": {
          "base_uri": "https://localhost:8080/"
        },
        "id": "IrPJk-MMVZ-I",
        "outputId": "1d85a721-9977-4926-e743-a3b3e5ed633a"
      },
      "source": [
        "#caracter de escape (contra barra \\), serve para alterar o sentido padrão que um caracter possui dentro do texto\n",
        "frase= \"O professor fulano da Let's code disse: \\\"Hoje foi\\\"\"\n",
        "print(frase)"
      ],
      "execution_count": null,
      "outputs": [
        {
          "output_type": "stream",
          "text": [
            "O professor fulano da Let's code disse: \"Hoje foi\"\n"
          ],
          "name": "stdout"
        }
      ]
    },
    {
      "cell_type": "code",
      "metadata": {
        "colab": {
          "base_uri": "https://localhost:8080/"
        },
        "id": "uA7xHoKpV9pX",
        "outputId": "2bc4796f-ff00-4da3-a778-4cfbeecea703"
      },
      "source": [
        "#podemos acessar os caracteres de uma string de forma semelhante a uma tupla\n",
        "empresa = \"Google\"\n",
        "print(empresa[0])"
      ],
      "execution_count": null,
      "outputs": [
        {
          "output_type": "stream",
          "text": [
            "G\n"
          ],
          "name": "stdout"
        }
      ]
    },
    {
      "cell_type": "code",
      "metadata": {
        "colab": {
          "base_uri": "https://localhost:8080/"
        },
        "id": "kWpV6EIbWxSO",
        "outputId": "631535eb-ef20-4b33-cc0d-600da2cf7dcb"
      },
      "source": [
        "print(empresa[:3])"
      ],
      "execution_count": null,
      "outputs": [
        {
          "output_type": "stream",
          "text": [
            "Goo\n"
          ],
          "name": "stdout"
        }
      ]
    },
    {
      "cell_type": "code",
      "metadata": {
        "id": "wQVvIT2JW1Jm"
      },
      "source": [
        "#metodos para strings, ao contrário das listas que perpetuam a alteração, nas strings eles retornam um valor que deve ser armazenado em uma variavel\n",
        "\n",
        "nomes_cidades = \"São Paulo, Bele Horizonte, Rio de Janeiro, Brasília\""
      ],
      "execution_count": null,
      "outputs": []
    },
    {
      "cell_type": "code",
      "metadata": {
        "colab": {
          "base_uri": "https://localhost:8080/",
          "height": 197
        },
        "id": "5zuuNxTaX8zv",
        "outputId": "1503bf25-0b0a-4838-946e-97ed4947690e"
      },
      "source": [
        "#metodo \"Split\" serve para quebrar a string a partir de um caracter em diferentes valores atribuindo esses valores a uma lista\n",
        "nomes_cidades = nomes_cidades.split(', ')\n",
        "#tem como carcterer padrão o espaço\n"
      ],
      "execution_count": null,
      "outputs": [
        {
          "output_type": "error",
          "ename": "AttributeError",
          "evalue": "ignored",
          "traceback": [
            "\u001b[0;31m---------------------------------------------------------------------------\u001b[0m",
            "\u001b[0;31mAttributeError\u001b[0m                            Traceback (most recent call last)",
            "\u001b[0;32m<ipython-input-45-068080841303>\u001b[0m in \u001b[0;36m<module>\u001b[0;34m()\u001b[0m\n\u001b[1;32m      1\u001b[0m \u001b[0;31m#metodo \"Split\" serve para quebrar a string a partir de um caracter em diferentes valores atribuindo esses valores a uma lista\u001b[0m\u001b[0;34m\u001b[0m\u001b[0;34m\u001b[0m\u001b[0;34m\u001b[0m\u001b[0m\n\u001b[0;32m----> 2\u001b[0;31m \u001b[0mnomes_cidades\u001b[0m \u001b[0;34m=\u001b[0m \u001b[0mnomes_cidades\u001b[0m\u001b[0;34m.\u001b[0m\u001b[0msplit\u001b[0m\u001b[0;34m(\u001b[0m\u001b[0;34m', '\u001b[0m\u001b[0;34m)\u001b[0m\u001b[0;34m\u001b[0m\u001b[0;34m\u001b[0m\u001b[0m\n\u001b[0m\u001b[1;32m      3\u001b[0m \u001b[0;31m#tem como carcterer padrão o espaço\u001b[0m\u001b[0;34m\u001b[0m\u001b[0;34m\u001b[0m\u001b[0;34m\u001b[0m\u001b[0m\n",
            "\u001b[0;31mAttributeError\u001b[0m: 'list' object has no attribute 'split'"
          ]
        }
      ]
    },
    {
      "cell_type": "code",
      "metadata": {
        "colab": {
          "base_uri": "https://localhost:8080/"
        },
        "id": "r7jWyM3OYR3c",
        "outputId": "2d1f7add-4dad-4f83-db69-4a4d80956f46"
      },
      "source": [
        "print(nomes_cidades)"
      ],
      "execution_count": null,
      "outputs": [
        {
          "output_type": "stream",
          "text": [
            "['São Paulo', 'Bele Horizonte', 'Rio de Janeiro', 'Brasília']\n"
          ],
          "name": "stdout"
        }
      ]
    },
    {
      "cell_type": "code",
      "metadata": {
        "colab": {
          "base_uri": "https://localhost:8080/"
        },
        "id": "Fx_Y5xvVYT8s",
        "outputId": "7448b72d-9a22-411b-ca8a-d250ecae79f0"
      },
      "source": [
        "casas = \"Duas casas\"\n",
        "casas = casas.split()\n",
        "print(casas)"
      ],
      "execution_count": null,
      "outputs": [
        {
          "output_type": "stream",
          "text": [
            "['Duas', 'casas']\n"
          ],
          "name": "stdout"
        }
      ]
    },
    {
      "cell_type": "code",
      "metadata": {
        "colab": {
          "base_uri": "https://localhost:8080/"
        },
        "id": "b40uAJUpZqLq",
        "outputId": "e14819b9-0a5a-49b5-83b7-27f7934db12a"
      },
      "source": [
        "#metodo \"strip\" remove espaços excessivos do inicio ou do fim das frases\n",
        "cabecalho =\"             Menu Principal          \"\n",
        "print(cabecalho.strip())"
      ],
      "execution_count": null,
      "outputs": [
        {
          "output_type": "stream",
          "text": [
            "Menu Principal\n"
          ],
          "name": "stdout"
        }
      ]
    },
    {
      "cell_type": "code",
      "metadata": {
        "colab": {
          "base_uri": "https://localhost:8080/"
        },
        "id": "nnb0GiFhZ-Ea",
        "outputId": "7e921993-6e16-40c5-f4e4-b4b0ee029980"
      },
      "source": [
        "# metodos para variações de caixa em valores textuais\n",
        "nome_cidade = \"rIo DE JaNeirO\"\n",
        "\n",
        "print(nome_cidade.title())\n",
        "#primeiros caracteres maisculos, para formartar titulos\n",
        "print(nome_cidade.capitalize())\n",
        "#primeiro caracter maisculo, o resto minusculo\n",
        "print(nome_cidade.lower())\n",
        "#todos minusculos\n",
        "print(nome_cidade.upper())\n",
        "#todos maisculos"
      ],
      "execution_count": null,
      "outputs": [
        {
          "output_type": "stream",
          "text": [
            "Rio De Janeiro\n",
            "Rio de janeiro\n",
            "rio de janeiro\n",
            "RIO DE JANEIRO\n"
          ],
          "name": "stdout"
        }
      ]
    },
    {
      "cell_type": "code",
      "metadata": {
        "colab": {
          "base_uri": "https://localhost:8080/"
        },
        "id": "bpM7PJNEbXuQ",
        "outputId": "d168faf0-ea2c-4303-d0a7-f319f8d718d9"
      },
      "source": [
        "nome_cidade = input(\"Que cidade é conhecida como cidade Maravilhosa?\")\n",
        "nome_cidade = nome_cidade.strip()\n",
        "while nome_cidade.lower() != \"rio de janeiro\":\n",
        "  print(\"Tente outra veeez\")\n",
        "  nome_cidade = input(\"Que cidade é conhecida como cidade Maravilhosa\")\n",
        "\n",
        "print(\"Acertouu\")  "
      ],
      "execution_count": null,
      "outputs": [
        {
          "output_type": "stream",
          "text": [
            "Que cidade é conhecida como cidade Maravilhosa?rio caju\n",
            "Tente outra veeez\n",
            "Que cidade é conhecida como cidade Maravilhosaasksk\n",
            "Tente outra veeez\n",
            "Que cidade é conhecida como cidade Maravilhosa   RiO  de     Janeiro    \n",
            "Tente outra veeez\n",
            "Que cidade é conhecida como cidade Maravilhosa     rio de janeiro\n",
            "Tente outra veeez\n",
            "Que cidade é conhecida como cidade Maravilhosario de janeiro\n",
            "Acertouu\n"
          ],
          "name": "stdout"
        }
      ]
    },
    {
      "cell_type": "code",
      "metadata": {
        "colab": {
          "base_uri": "https://localhost:8080/"
        },
        "id": "9LsMD144bywZ",
        "outputId": "08f0d777-47aa-41d8-95d8-f05595408c74"
      },
      "source": [
        "#operador \"in\" para verificar se determinado valor textual existe na string\n",
        "mensagem = \"Você viu o que ele disse na sala ontem\"\n",
        "fui_citado = \"casa\" in mensagem\n",
        "print(fui_citado)"
      ],
      "execution_count": null,
      "outputs": [
        {
          "output_type": "stream",
          "text": [
            "False\n"
          ],
          "name": "stdout"
        }
      ]
    },
    {
      "cell_type": "markdown",
      "metadata": {
        "id": "9luKy4_aiU3X"
      },
      "source": [
        "## Operadores em Strings"
      ]
    },
    {
      "cell_type": "code",
      "metadata": {
        "colab": {
          "base_uri": "https://localhost:8080/"
        },
        "id": "SfrGFyq2ce83",
        "outputId": "e61d5879-f5a9-4cb2-dc00-305e8268d55c"
      },
      "source": [
        "#metodo para formatação de strings, principalmente pensando na inserção de valores externos dentro de um valor que estamos declarando\n",
        "\n",
        "cumprimento = \"Olá, \"\n",
        "nome = \"Diogo\"\n",
        "print (cumprimento + nome)"
      ],
      "execution_count": null,
      "outputs": [
        {
          "output_type": "stream",
          "text": [
            "Olá, Diogo\n"
          ],
          "name": "stdout"
        }
      ]
    },
    {
      "cell_type": "code",
      "metadata": {
        "colab": {
          "base_uri": "https://localhost:8080/"
        },
        "id": "ljymfJ2Fi0S2",
        "outputId": "a995dbd5-c9f3-4683-c2f5-8026f569847c"
      },
      "source": [
        "print (nome * 5)"
      ],
      "execution_count": null,
      "outputs": [
        {
          "output_type": "stream",
          "text": [
            "DiogoDiogoDiogoDiogoDiogo\n"
          ],
          "name": "stdout"
        }
      ]
    },
    {
      "cell_type": "code",
      "metadata": {
        "colab": {
          "base_uri": "https://localhost:8080/"
        },
        "id": "wrcQs019i6n9",
        "outputId": "5d82dc7f-3eb7-4c0f-be6c-be06f6d1f89c"
      },
      "source": [
        "nome = \"Diogo\"\n",
        "idade = 32\n",
        "n_filhos = 1\n",
        "print (nome + ' tem ' + str(idade) + ' anos e ' + str(n_filhos) + ' filhos.' )"
      ],
      "execution_count": null,
      "outputs": [
        {
          "output_type": "stream",
          "text": [
            "Diogo tem 32 anos e 1 filhos.\n"
          ],
          "name": "stdout"
        }
      ]
    },
    {
      "cell_type": "code",
      "metadata": {
        "colab": {
          "base_uri": "https://localhost:8080/"
        },
        "id": "p3Jy1XTwjZ0z",
        "outputId": "58f8b87a-daa2-45e5-f5cd-d04330ee3e98"
      },
      "source": [
        "# format insere o valor da variavel nas {} de acordo com a ordem\n",
        "print('{} tem {} anos e {} filho'.format(nome, idade, n_filhos))"
      ],
      "execution_count": null,
      "outputs": [
        {
          "output_type": "stream",
          "text": [
            "Diogo tem 32 anos e 1 filho\n"
          ],
          "name": "stdout"
        }
      ]
    },
    {
      "cell_type": "code",
      "metadata": {
        "colab": {
          "base_uri": "https://localhost:8080/"
        },
        "id": "iRNQ8ooNj_nT",
        "outputId": "a0d0687b-2c94-434a-debd-5c6db7dc2bcb"
      },
      "source": [
        "#format vai arredondar o valor caso necessário\n",
        "\n",
        "\n",
        "preco_gasolina = 3.476\n",
        "print(\"O preço da gasolina hoje subiu e está em R$ {:.2f}\".format(preco_gasolina))"
      ],
      "execution_count": null,
      "outputs": [
        {
          "output_type": "stream",
          "text": [
            "O preço da gasolina hoje subiu e está em R$ 3.48\n"
          ],
          "name": "stdout"
        }
      ]
    },
    {
      "cell_type": "markdown",
      "metadata": {
        "id": "iVcG18F4lqFZ"
      },
      "source": [
        "**:** indica que passaremos opções\n",
        "\n",
        "**.2** indica apenas 2 casas após o ponto decimal\n",
        "\n",
        "**f** indica que é um float\n",
        "\n",
        "# Pode-se chamar as variávies em diferentes ordens:\n",
        "\n",
        "print('{2}, {1} and {0}'.format('a', 'b', 'c'))\n",
        "# Saída: c, b and a\n",
        "\n",
        "print('{0}{1}{0}'.format('abra', 'cad'))\n",
        "# Saída: abracadabra\n",
        "\n",
        "# Podemos especificar um número de dígitos obrigatório por campo.\n",
        "# Vejamos o exemplo:\n",
        "\n",
        "dia = 1\n",
        "mes = 8\n",
        "ano = 2019\n",
        "data1 = '{}/{}/{}'.format(dia, mes, ano)\n",
        "print(data1)\n",
        "# Saída: 1/8/2019\n",
        "# O dia e o mês ocupam apenas 1 espaço\n",
        "\n",
        "\n",
        "data2 = '{:2d}/{:2d}/{:4d}'.format(dia, mes, ano)\n",
        "# A opção 'd' significa que o parâmetro é um número inteiro.\n",
        "print(data2)\n",
        "# Saída:  1/ 8/2019\n",
        "# Agora, dia e mês ocupam obrigatoriamente 2 espaços:  1/ 8/2019\n",
        "\n",
        "# Podemos forçar que os espaços em branco sejam preenchidos com o número 0:\n",
        "data3 = '{:02d}/{:02d}/{:04d}'.format(dia, mes, ano)\n",
        "print(data3)\n",
        "# Saída: 01/08/2019\n",
        "# Agora sim a data está no formato usual, dd/mm/aaaa: 01/08/2019\n"
      ]
    },
    {
      "cell_type": "code",
      "metadata": {
        "colab": {
          "base_uri": "https://localhost:8080/"
        },
        "id": "5jDFApgYkgWy",
        "outputId": "96798bf2-935e-4413-d5fb-c4d68f66870e"
      },
      "source": [
        "#atalho para o metodo format\n",
        "print(f\"{nome} tem  {idade} anos e  {n_filhos} filhos\")"
      ],
      "execution_count": null,
      "outputs": [
        {
          "output_type": "stream",
          "text": [
            "Diogo tem  32 anos e  1 filhos\n"
          ],
          "name": "stdout"
        }
      ]
    },
    {
      "cell_type": "markdown",
      "metadata": {
        "id": "UFtfRgsjxdx_"
      },
      "source": [
        "# **Dicionários**\n",
        "\n",
        "- É uma coleção associativa e desordenada de dados\n",
        "\n",
        "- Também é uma coleção como as listas e Tuplas, porém  são indexados por chaves. Todo elemento em um dicionário possui uma chave e um valor. Chaves tipicamente são Strings e valores podem ser de variados tipos de dados\n",
        "\n",
        "- É definido pelos símbolos {}\n",
        "\n",
        "- São mutáveis, assim como as listas.\n"
      ]
    },
    {
      "cell_type": "code",
      "metadata": {
        "id": "IOCopzLLk6vD",
        "colab": {
          "base_uri": "https://localhost:8080/"
        },
        "outputId": "ad44047e-3802-4884-eb98-1177b178701b"
      },
      "source": [
        "dicionario= {}\n",
        "\n",
        "#no dicionarios os valores são adicionados diretamente:\n",
        "\n",
        "dicionario[\"Cat\"] = \"Gato\"\n",
        "dicionario[\"Dog\"] = \"Cachorro\"\n",
        "dicionario[\"mouse\"] = \"Rato\"\n",
        "\n",
        "print(dicionario)\n",
        "print(type(dicionario))"
      ],
      "execution_count": null,
      "outputs": [
        {
          "output_type": "stream",
          "text": [
            "{'Cat': 'Gato', 'Dog': 'Cachorro', 'mouse': 'Rato'}\n",
            "<class 'dict'>\n"
          ],
          "name": "stdout"
        }
      ]
    },
    {
      "cell_type": "code",
      "metadata": {
        "id": "zv2KTfrzyXTv"
      },
      "source": [
        "dados_cidade = {\n",
        "    \"nome\": \"São Paulo\", \n",
        "    \"estado\": \"São Paulo\",\n",
        "    \"area_km2\": 1521,\n",
        "    \"populacao_milhoes\": 12.18\n",
        "}\n"
      ],
      "execution_count": null,
      "outputs": []
    },
    {
      "cell_type": "code",
      "metadata": {
        "id": "ounbR5h3zhG2",
        "colab": {
          "base_uri": "https://localhost:8080/"
        },
        "outputId": "d1027de6-648b-43dd-b507-fbf75fb70cf1"
      },
      "source": [
        "print(type(dados_cidade))\n",
        "print(dados_cidade)\n"
      ],
      "execution_count": null,
      "outputs": [
        {
          "output_type": "stream",
          "text": [
            "<class 'dict'>\n",
            "{'nome': 'São Paulo', 'estado': 'São Paulo', 'area_km2': 1521, 'populacao_milhoes': 12.18}\n"
          ],
          "name": "stdout"
        }
      ]
    },
    {
      "cell_type": "code",
      "metadata": {
        "id": "YwfidATWz7pL",
        "colab": {
          "base_uri": "https://localhost:8080/"
        },
        "outputId": "a99fdf33-7650-44b0-f619-61834c80a50b"
      },
      "source": [
        "dados_cidade[\"pais\"]= \"Brasil\"\n",
        "print(dados_cidade)"
      ],
      "execution_count": null,
      "outputs": [
        {
          "output_type": "stream",
          "text": [
            "{'nome': 'São Paulo', 'estado': 'São Paulo', 'area_km2': 1521, 'populacao_milhoes': 12.18, 'pais': 'Brasil'}\n"
          ],
          "name": "stdout"
        }
      ]
    },
    {
      "cell_type": "code",
      "metadata": {
        "id": "HNOVV6cq0Ssq",
        "colab": {
          "base_uri": "https://localhost:8080/"
        },
        "outputId": "a03c4394-14e3-4f0d-ff04-8fedc82fe0dc"
      },
      "source": [
        "print(dados_cidade[\"nome\"])"
      ],
      "execution_count": null,
      "outputs": [
        {
          "output_type": "stream",
          "text": [
            "São Paulo\n"
          ],
          "name": "stdout"
        }
      ]
    },
    {
      "cell_type": "code",
      "metadata": {
        "id": "QvsL5cWR0ZAS",
        "colab": {
          "base_uri": "https://localhost:8080/"
        },
        "outputId": "f130fe55-9665-46f8-b478-07510a40ac8f"
      },
      "source": [
        "dados_cidade[\"area_km2\"] = 1500\n",
        "print(dados_cidade)"
      ],
      "execution_count": null,
      "outputs": [
        {
          "output_type": "stream",
          "text": [
            "{'nome': 'São Paulo', 'estado': 'São Paulo', 'area_km2': 1500, 'populacao_milhoes': 12.18, 'pais': 'Brasil'}\n"
          ],
          "name": "stdout"
        }
      ]
    },
    {
      "cell_type": "code",
      "metadata": {
        "id": "i-__jnTM0gOS"
      },
      "source": [
        "#método Copy, ele copia os valores do dicionario, permitindo que a nova variavel seja uma lista ou dicionario independente\n",
        "dados_cidade_2 = dados_cidade\n",
        "\n"
      ],
      "execution_count": null,
      "outputs": []
    },
    {
      "cell_type": "code",
      "metadata": {
        "id": "tLgdrNqR1E6B",
        "colab": {
          "base_uri": "https://localhost:8080/"
        },
        "outputId": "24708209-1ff6-4721-a4a2-500b549ae5ba"
      },
      "source": [
        "dados_cidade_2[\"nome\"] = \"Santos \"  \n",
        "print(dados_cidade_2)"
      ],
      "execution_count": null,
      "outputs": [
        {
          "output_type": "stream",
          "text": [
            "{'nome': 'Santos ', 'estado': 'São Paulo', 'area_km2': 1500, 'populacao_milhoes': 12.18, 'pais': 'Brasil'}\n"
          ],
          "name": "stdout"
        }
      ]
    },
    {
      "cell_type": "code",
      "metadata": {
        "id": "E5lO319V1MTR",
        "colab": {
          "base_uri": "https://localhost:8080/"
        },
        "outputId": "d5fd0c31-2131-4a32-c0b3-977fb9d4b912"
      },
      "source": [
        "print(dados_cidade)"
      ],
      "execution_count": null,
      "outputs": [
        {
          "output_type": "stream",
          "text": [
            "{'nome': 'Santos ', 'estado': 'São Paulo', 'area_km2': 1500, 'populacao_milhoes': 12.18, 'pais': 'Brasil'}\n"
          ],
          "name": "stdout"
        }
      ]
    },
    {
      "cell_type": "code",
      "metadata": {
        "id": "gsDmejyA1Np5"
      },
      "source": [
        "dados_cidade_3 = dados_cidade.copy()"
      ],
      "execution_count": null,
      "outputs": []
    },
    {
      "cell_type": "code",
      "metadata": {
        "id": "h0H_9s_I1V3h",
        "colab": {
          "base_uri": "https://localhost:8080/"
        },
        "outputId": "2671596c-388d-4eb5-e0b0-18ab0d9d58e8"
      },
      "source": [
        "dados_cidade_3 [\"estado\"] = \"Rio de Janeiro\"\n",
        "print(dados_cidade)"
      ],
      "execution_count": null,
      "outputs": [
        {
          "output_type": "stream",
          "text": [
            "{'nome': 'Santos ', 'estado': 'São Paulo', 'area_km2': 1500, 'populacao_milhoes': 12.18, 'pais': 'Brasil'}\n"
          ],
          "name": "stdout"
        }
      ]
    },
    {
      "cell_type": "markdown",
      "metadata": {
        "id": "BUUy4yFY1ezh"
      },
      "source": [
        "A concatenação, atualização ou combinação  de dois dicionarios pode ser feita pela opção update."
      ]
    },
    {
      "cell_type": "code",
      "metadata": {
        "id": "ev6mr03A1cn5",
        "colab": {
          "base_uri": "https://localhost:8080/"
        },
        "outputId": "ca7792f0-9afa-4196-ff78-8587d11cb3d1"
      },
      "source": [
        "novos_dados = {\n",
        "    \"populacao_milhoes\": 15,\n",
        "    \"fundacao\": \"25/01/1554\"\n",
        "}\n",
        "\n",
        "dados_cidade.update(novos_dados)\n",
        "print(dados_cidade)"
      ],
      "execution_count": null,
      "outputs": [
        {
          "output_type": "stream",
          "text": [
            "{'nome': 'Santos ', 'estado': 'São Paulo', 'area_km2': 1500, 'populacao_milhoes': 15, 'pais': 'Brasil', 'fundacao': '25/01/1554'}\n"
          ],
          "name": "stdout"
        }
      ]
    },
    {
      "cell_type": "code",
      "metadata": {
        "id": "lGmzhr7G19oQ",
        "colab": {
          "base_uri": "https://localhost:8080/"
        },
        "outputId": "df359f1b-398a-4285-f538-ed447d13daa6"
      },
      "source": [
        "#metodo \"Get\", para acesso de chaves para saber se os valores existem no dicionario\n",
        "\n",
        "print(dados_cidade.get(\"prefeito\"))"
      ],
      "execution_count": null,
      "outputs": [
        {
          "output_type": "stream",
          "text": [
            "None\n"
          ],
          "name": "stdout"
        }
      ]
    },
    {
      "cell_type": "code",
      "metadata": {
        "id": "ZFMiRKM42yg4",
        "colab": {
          "base_uri": "https://localhost:8080/"
        },
        "outputId": "f4a96f47-0c34-4d37-ef05-dad17754036d"
      },
      "source": [
        "print(dados_cidade.keys()) #retorna uma lista de chaves de um dicionario\n",
        "print(dados_cidade.values()) # retorna uma lista de valores de um dicionario\n",
        "print(dados_cidade.items()) #retorna uma lista de tuplas (chave,valor) de um dicionario"
      ],
      "execution_count": null,
      "outputs": [
        {
          "output_type": "stream",
          "text": [
            "dict_keys(['nome', 'estado', 'area_km2', 'populacao_milhoes', 'pais', 'fundacao'])\n",
            "dict_values(['Santos ', 'São Paulo', 1500, 15, 'Brasil', '25/01/1554'])\n",
            "dict_items([('nome', 'Santos '), ('estado', 'São Paulo'), ('area_km2', 1500), ('populacao_milhoes', 15), ('pais', 'Brasil'), ('fundacao', '25/01/1554')])\n"
          ],
          "name": "stdout"
        }
      ]
    },
    {
      "cell_type": "markdown",
      "metadata": {
        "id": "KY7PIcGU6v0C"
      },
      "source": [
        "# **Estruturas de repetição**\n",
        "\n",
        "**For**\n",
        "\n",
        "- É um tipo especial de loop, feito para percorrer elementos de uma coleção. Elimina a necessidade de um contador.\n",
        "\n",
        "- aplicável quando tem se um objeto interavel (estrutura de dados) e que precisa navegar por cada um de seus elementos.\n",
        "\n",
        "- quando se tem uma sequencia de tarefas que deve ser repetida um número pré definido de vezes.\n",
        "\n",
        "**Sintaxe:**\n",
        "\n",
        "for (variavel temporária) in (lista)\n",
        "   #instruções....\n",
        "\n",
        "   "
      ]
    },
    {
      "cell_type": "code",
      "metadata": {
        "id": "pev-wpol7MSB",
        "outputId": "623736d9-76b4-45bd-aa70-db38d33a717a",
        "colab": {
          "base_uri": "https://localhost:8080/"
        }
      },
      "source": [
        "nomes_cidades = [\"São Paulo\", \"Londres\", \"Toquio\", \"Paris\"]\n",
        "for nome in nomes_cidades :\n",
        "  print(nome)"
      ],
      "execution_count": 2,
      "outputs": [
        {
          "output_type": "stream",
          "text": [
            "São Paulo\n",
            "Londres\n",
            "Toquio\n",
            "Paris\n"
          ],
          "name": "stdout"
        }
      ]
    },
    {
      "cell_type": "code",
      "metadata": {
        "id": "IzYM7lu9iNGZ",
        "outputId": "761ce206-b668-456d-eb29-14164aec0f70",
        "colab": {
          "base_uri": "https://localhost:8080/"
        }
      },
      "source": [
        "nomes_cidades = \"São Paulo\", \"Londres\", \"Toquio\", \"Paris\"\n",
        "for nome in nomes_cidades :\n",
        "  print(nome)"
      ],
      "execution_count": 3,
      "outputs": [
        {
          "output_type": "stream",
          "text": [
            "São Paulo\n",
            "Londres\n",
            "Toquio\n",
            "Paris\n"
          ],
          "name": "stdout"
        }
      ]
    },
    {
      "cell_type": "code",
      "metadata": {
        "id": "LCcGplP9inLG",
        "outputId": "7e6d8017-bca6-45b5-e6d8-07bdb2b522dc",
        "colab": {
          "base_uri": "https://localhost:8080/"
        }
      },
      "source": [
        "#atua um pouco diferente em dicionarios\n",
        "cidade = {\n",
        "    \"nome\": \"São Paulo\",\n",
        "    \"estado\": \"São Paulo\",\n",
        "    \"populacao_milhoes\": 12.2,\n",
        "}\n",
        "\n",
        "for chave in cidade:\n",
        "  print(f\"{chave}: {cidade[chave]}\")"
      ],
      "execution_count": 5,
      "outputs": [
        {
          "output_type": "stream",
          "text": [
            "nome: São Paulo\n",
            "estado: São Paulo\n",
            "populacao_milhoes: 12.2\n"
          ],
          "name": "stdout"
        }
      ]
    },
    {
      "cell_type": "code",
      "metadata": {
        "id": "ICLAUH2KjSb8",
        "outputId": "132b7ed7-94f9-4816-c487-03e5a450bac5",
        "colab": {
          "base_uri": "https://localhost:8080/"
        }
      },
      "source": [
        "for posicao in range(len(nomes_cidades)):\n",
        "  print(posicao)"
      ],
      "execution_count": 6,
      "outputs": [
        {
          "output_type": "stream",
          "text": [
            "0\n",
            "1\n",
            "2\n",
            "3\n"
          ],
          "name": "stdout"
        }
      ]
    },
    {
      "cell_type": "markdown",
      "metadata": {
        "id": "tSS1BfGukMlk"
      },
      "source": [
        "Usos da função range:\n"
      ]
    },
    {
      "cell_type": "code",
      "metadata": {
        "id": "Q7OMmX3YkMX-",
        "outputId": "559fff93-7755-4c98-8017-a29520ca181d",
        "colab": {
          "base_uri": "https://localhost:8080/"
        }
      },
      "source": [
        "print(list(range(10))) #passando apenas o valor final, cria uma lista de 0 até -1 do valor passado. O valor final é excludente\n",
        "print(list(range(2, 10)))  #especificando um valor inicial (includente) e um valor final (excludente)\n",
        "print(list(range(2, 10, 2))) #especificando valores iniciais, finais e um incremento a cada interação"
      ],
      "execution_count": 7,
      "outputs": [
        {
          "output_type": "stream",
          "text": [
            "[0, 1, 2, 3, 4, 5, 6, 7, 8, 9]\n",
            "[2, 3, 4, 5, 6, 7, 8, 9]\n",
            "[2, 4, 6, 8]\n"
          ],
          "name": "stdout"
        }
      ]
    },
    {
      "cell_type": "markdown",
      "metadata": {
        "id": "hwFPPt_Plm6y"
      },
      "source": [
        "# **Funções**\n",
        "\n",
        "- Sequencia de comandos\n",
        "\n",
        "- para declarar:\n",
        "  \n",
        "  def hello():\n",
        "      print(\"Olá, mundo!)"
      ]
    },
    {
      "cell_type": "code",
      "metadata": {
        "id": "u7ZsteImj-ms"
      },
      "source": [
        "def hello():\n",
        "  print(\"Olá, Mundo!\")\n"
      ],
      "execution_count": 8,
      "outputs": []
    },
    {
      "cell_type": "code",
      "metadata": {
        "id": "DhdjsuqDmaHx",
        "outputId": "6fb06534-eb7b-40f3-abe9-87845cfc267f",
        "colab": {
          "base_uri": "https://localhost:8080/"
        }
      },
      "source": [
        "hello()\n"
      ],
      "execution_count": 9,
      "outputs": [
        {
          "output_type": "stream",
          "text": [
            "Olá, Mundo!\n"
          ],
          "name": "stdout"
        }
      ]
    },
    {
      "cell_type": "code",
      "metadata": {
        "id": "VHtk2Ol2mddH"
      },
      "source": [
        "def calcula_media(valor1, valor2, valor3):\n",
        "  soma = valor1 + valor2 + valor3\n",
        "  media = soma / 3\n",
        "  return media  #retorna o valor para uma variavel"
      ],
      "execution_count": 10,
      "outputs": []
    },
    {
      "cell_type": "code",
      "metadata": {
        "id": "O6I1xr5Km45w",
        "outputId": "615b7dc3-beaa-4d83-f332-84dcfbd09a2a",
        "colab": {
          "base_uri": "https://localhost:8080/"
        }
      },
      "source": [
        "resultado = calcula_media(9, 10, 8)\n",
        "print(resultado)"
      ],
      "execution_count": 12,
      "outputs": [
        {
          "output_type": "stream",
          "text": [
            "9.0\n"
          ],
          "name": "stdout"
        }
      ]
    },
    {
      "cell_type": "code",
      "metadata": {
        "id": "jB_4s1sxnBKI",
        "outputId": "e4b779f3-99c1-4c20-f6f9-3876fd00abf8",
        "colab": {
          "base_uri": "https://localhost:8080/"
        }
      },
      "source": [
        "resultado2 = calcula_media(valor1 = 9, valor2= 10, valor3 = 9)\n",
        "print(resultado2)"
      ],
      "execution_count": 13,
      "outputs": [
        {
          "output_type": "stream",
          "text": [
            "9.333333333333334\n"
          ],
          "name": "stdout"
        }
      ]
    },
    {
      "cell_type": "code",
      "metadata": {
        "id": "7sY_2M6AnQY_",
        "outputId": "366e30fc-c70a-4cce-bc8a-766d7eadad8c",
        "colab": {
          "base_uri": "https://localhost:8080/"
        }
      },
      "source": [
        "#parametros de funções que podem ser informados ou deixados em branco.\n",
        "print(\"Ola\", end=\" \")\n",
        "print(\", Diogo\")"
      ],
      "execution_count": 16,
      "outputs": [
        {
          "output_type": "stream",
          "text": [
            "Ola , Diogo\n"
          ],
          "name": "stdout"
        }
      ]
    },
    {
      "cell_type": "code",
      "metadata": {
        "id": "QjNZnEYgnwfu"
      },
      "source": [
        "#parametrização de funções, como receber parametros variaveis dentro de uma função ou mesmo parametros desconhecidos\n",
        "\n",
        "def calcula_media(*args): #args é uma convenção, poderia utilizar qualquer outro nome\n",
        "    soma = sum(args)\n",
        "    media = soma / len(args)\n",
        "    return media\n",
        "     \n",
        "\n",
        "\n"
      ],
      "execution_count": 22,
      "outputs": []
    },
    {
      "cell_type": "code",
      "metadata": {
        "id": "yZEF7gLkp07V",
        "outputId": "7c86eed9-2cb9-42f1-bb62-bd098320b904",
        "colab": {
          "base_uri": "https://localhost:8080/"
        }
      },
      "source": [
        "calcula_media(10,8,9)"
      ],
      "execution_count": 23,
      "outputs": [
        {
          "output_type": "execute_result",
          "data": {
            "text/plain": [
              "9.0"
            ]
          },
          "metadata": {
            "tags": []
          },
          "execution_count": 23
        }
      ]
    },
    {
      "cell_type": "markdown",
      "metadata": {
        "id": "42iZMPYPs9gR"
      },
      "source": [
        "Ao colocarmos o * ao lado do nome de um parâmetro na definição da função, estamos dizendo que aquele argumento será uma coleção. Mais especificamente, uma tupla. Porém, o usuário não irá passar uma tupla. Ele irá passar quantos argumentos ele quiser, e o Python automaticamente criará uma tupla com eles:"
      ]
    },
    {
      "cell_type": "code",
      "metadata": {
        "id": "OyMSZQdSqlJy"
      },
      "source": [
        "def calcula_media(*args, margem): #args é uma convenção, poderia utilizar qualquer outro nome. Posso adicionar parametros extras\n",
        "    soma = sum(args)              #mas devo explicita-los na chamada da função\n",
        "    media = soma / len(args)\n",
        "    return media + margem"
      ],
      "execution_count": 26,
      "outputs": []
    },
    {
      "cell_type": "code",
      "metadata": {
        "id": "KxXfiTMGrIJK",
        "outputId": "3ed4bf12-12c2-4ef7-c2a5-0ad9eebafa70",
        "colab": {
          "base_uri": "https://localhost:8080/"
        }
      },
      "source": [
        "calcula_media(10,9,8, margem=0.55)"
      ],
      "execution_count": 25,
      "outputs": [
        {
          "output_type": "execute_result",
          "data": {
            "text/plain": [
              "9.55"
            ]
          },
          "metadata": {
            "tags": []
          },
          "execution_count": 25
        }
      ]
    },
    {
      "cell_type": "code",
      "metadata": {
        "id": "Cg6cf8xfrMhJ"
      },
      "source": [
        "#Kwargs key world arguments\n",
        "\n",
        "def print_info(**kwargs): #novamente, o nome de varialve é uma convenção\n",
        "    print(kwargs, type(kwargs))"
      ],
      "execution_count": 27,
      "outputs": []
    },
    {
      "cell_type": "code",
      "metadata": {
        "id": "eUXRIERHsXnX",
        "outputId": "dbfc3b85-56f3-44ca-cf68-ff399e880f3f",
        "colab": {
          "base_uri": "https://localhost:8080/"
        }
      },
      "source": [
        "#ao chamar esta função todos os parametros devem ser nomeados. Ou, ao menos aqueles dedicados ao kwargs\n",
        "print_info(nome = \"Diogo\", sobrenome= \"Vieira\")"
      ],
      "execution_count": 28,
      "outputs": [
        {
          "output_type": "stream",
          "text": [
            "{'nome': 'Diogo', 'sobrenome': 'Vieira'} <class 'dict'>\n"
          ],
          "name": "stdout"
        }
      ]
    },
    {
      "cell_type": "code",
      "metadata": {
        "id": "BXmSNwpisn13"
      },
      "source": [
        ""
      ],
      "execution_count": null,
      "outputs": []
    }
  ]
}